{
 "cells": [
  {
   "cell_type": "code",
   "execution_count": 8,
   "metadata": {
    "colab": {
     "base_uri": "https://localhost:8080/"
    },
    "id": "AKuUCXMV_Uvl",
    "outputId": "fd91e1cb-7cbe-4685-c4b1-32a32c6179c8"
   },
   "outputs": [
    {
     "name": "stdout",
     "output_type": "stream",
     "text": [
      "[nltk_data] Downloading package punkt to /root/nltk_data...\n",
      "[nltk_data]   Unzipping tokenizers/punkt.zip.\n",
      "[nltk_data] Downloading package wordnet to /root/nltk_data...\n",
      "[nltk_data]   Unzipping corpora/wordnet.zip.\n",
      "[nltk_data] Downloading package stopwords to /root/nltk_data...\n",
      "[nltk_data]   Unzipping corpora/stopwords.zip.\n"
     ]
    }
   ],
   "source": [
    "from keras.preprocessing.text import Tokenizer\n",
    "from gensim.models.fasttext import FastText\n",
    "import numpy as np\n",
    "import matplotlib.pyplot as plt\n",
    "import nltk\n",
    "from string import punctuation\n",
    "from nltk.corpus import stopwords\n",
    "from nltk.tokenize import word_tokenize\n",
    "from nltk.stem import WordNetLemmatizer\n",
    "from nltk.tokenize import sent_tokenize\n",
    "from nltk import WordPunctTokenizer\n",
    "\n",
    "\n",
    "import nltk\n",
    "nltk.download('punkt')\n",
    "nltk.download('wordnet')\n",
    "nltk.download('stopwords')\n",
    "en_stop = set(nltk.corpus.stopwords.words('english'))\n",
    "\n",
    "%matplotlib inline"
   ]
  },
  {
   "cell_type": "markdown",
   "metadata": {
    "id": "GWZ8ru6aAs-a"
   },
   "source": [
    "# **FAST TEXT Pretrained models for generating Embeddings**"
   ]
  },
  {
   "cell_type": "code",
   "execution_count": 7,
   "metadata": {
    "colab": {
     "base_uri": "https://localhost:8080/"
    },
    "id": "_EdrHmST6ULE",
    "outputId": "d5662a03-7c35-4ac7-95e3-ea0ffb0302c9"
   },
   "outputs": [
    {
     "name": "stdout",
     "output_type": "stream",
     "text": [
      "[==================================================] 100.0% 958.5/958.4MB downloaded\n"
     ]
    }
   ],
   "source": [
    "import gensim.downloader as api\n",
    "fast_text = api.load('fasttext-wiki-news-subwords-300')"
   ]
  },
  {
   "cell_type": "code",
   "execution_count": 9,
   "metadata": {
    "id": "aeNgD0Ot7TSv"
   },
   "outputs": [],
   "source": [
    "import re\n",
    "from nltk.stem import WordNetLemmatizer\n",
    "\n",
    "stemmer = WordNetLemmatizer()\n",
    "\n",
    "def preprocess_text(document):\n",
    "        # Remove all the special characters\n",
    "        document = re.sub(r'\\W', ' ', str(document))\n",
    "\n",
    "        # remove all single characters\n",
    "        document = re.sub(r'\\s+[a-zA-Z]\\s+', ' ', document)\n",
    "\n",
    "        # Remove single characters from the start\n",
    "        document = re.sub(r'\\^[a-zA-Z]\\s+', ' ', document)\n",
    "\n",
    "        # Substituting multiple spaces with single space\n",
    "        document = re.sub(r'\\s+', ' ', document, flags=re.I)\n",
    "\n",
    "        # Removing prefixed 'b'\n",
    "        document = re.sub(r'^b\\s+', '', document)\n",
    "\n",
    "        # Converting to Lowercase\n",
    "        document = document.lower()\n",
    "\n",
    "        # Lemmatization\n",
    "        tokens = document.split()\n",
    "        tokens = [stemmer.lemmatize(word) for word in tokens]\n",
    "        tokens = [word for word in tokens if word not in en_stop]\n",
    "        tokens = [word for word in tokens if len(word) > 3]\n",
    "\n",
    "        preprocessed_text = ' '.join(tokens)\n",
    "\n",
    "        return preprocessed_text"
   ]
  },
  {
   "cell_type": "code",
   "execution_count": 10,
   "metadata": {
    "colab": {
     "base_uri": "https://localhost:8080/"
    },
    "id": "2n40Ptyv9aAV",
    "outputId": "110f2bfe-0c8e-41bf-d46a-cd729f49fd76"
   },
   "outputs": [
    {
     "name": "stdout",
     "output_type": "stream",
     "text": [
      "drive computer program translate text language another respond spoken command summarize large volume text rapidly even real time good chance interacted form voiceoperated system digital assistant speech text dictation software customer service chatbots consumer convenience also play growing role enterprise solution help streamline business operation increase employee productivity simplify mission critical business process\n"
     ]
    }
   ],
   "source": [
    "sent = preprocess_text('NLP drives computer programs that translate text from one language to another respond to spoken commands and summarize large volumes of text rapidly even in real time. There is a good chance you interacted with NLP in the form of voiceoperated GPS systems, digital assistants, speech to text dictation software, customer service chatbots, and other consumer conveniences. But NLP also plays a growing role in enterprise solutions that help streamline business operations, increase employee productivity, and simplify mission-critical business processes.')\n",
    "print(sent)"
   ]
  },
  {
   "cell_type": "code",
   "execution_count": 11,
   "metadata": {
    "id": "gDEZyDsB_qXr"
   },
   "outputs": [],
   "source": [
    "word_punctuation_tokenizer = nltk.WordPunctTokenizer()\n",
    "word_tokenized_corpus = [word_punctuation_tokenizer.tokenize(sent)]"
   ]
  },
  {
   "cell_type": "code",
   "execution_count": 12,
   "metadata": {
    "id": "QT8_SU4I_vNN"
   },
   "outputs": [],
   "source": [
    "corps = word_tokenized_corpus[0]"
   ]
  },
  {
   "cell_type": "code",
   "execution_count": 13,
   "metadata": {
    "id": "BA7wka1k_0CO"
   },
   "outputs": [],
   "source": [
    "corpus_1 = []\n",
    "for i in range(15):\n",
    "    x = corps[i]\n",
    "    corpus_1.append(x)"
   ]
  },
  {
   "cell_type": "code",
   "execution_count": 14,
   "metadata": {
    "colab": {
     "base_uri": "https://localhost:8080/"
    },
    "id": "PLOSmKyi_3GT",
    "outputId": "1a40a9d6-9523-4b74-bc76-7cd5b961466a"
   },
   "outputs": [
    {
     "data": {
      "text/plain": [
       "['drive',\n",
       " 'computer',\n",
       " 'program',\n",
       " 'translate',\n",
       " 'text',\n",
       " 'language',\n",
       " 'another',\n",
       " 'respond',\n",
       " 'spoken',\n",
       " 'command',\n",
       " 'summarize',\n",
       " 'large',\n",
       " 'volume',\n",
       " 'text',\n",
       " 'rapidly']"
      ]
     },
     "execution_count": 14,
     "metadata": {},
     "output_type": "execute_result"
    }
   ],
   "source": [
    "corpus_1"
   ]
  },
  {
   "cell_type": "code",
   "execution_count": 15,
   "metadata": {
    "colab": {
     "base_uri": "https://localhost:8080/",
     "height": 36
    },
    "id": "HoexXdV-_5i2",
    "outputId": "8f40e0d6-bbd6-4873-a56d-6c1a7704390e"
   },
   "outputs": [
    {
     "data": {
      "application/vnd.google.colaboratory.intrinsic+json": {
       "type": "string"
      },
      "text/plain": [
       "'drive'"
      ]
     },
     "execution_count": 15,
     "metadata": {},
     "output_type": "execute_result"
    }
   ],
   "source": [
    "corpus_1[0]"
   ]
  },
  {
   "cell_type": "code",
   "execution_count": 19,
   "metadata": {
    "id": "L_2--jQx_-XJ"
   },
   "outputs": [],
   "source": [
    "vectors = []\n",
    "for i in corpus_1:\n",
    "    y = fast_text[i]\n",
    "    vectors.append(y)"
   ]
  },
  {
   "cell_type": "code",
   "execution_count": 20,
   "metadata": {
    "id": "YlL-xUjgABZD"
   },
   "outputs": [],
   "source": [
    "word_vectors = dict(zip(corpus_1,vectors))"
   ]
  },
  {
   "cell_type": "code",
   "execution_count": 21,
   "metadata": {
    "colab": {
     "base_uri": "https://localhost:8080/"
    },
    "id": "iZN49YpoAI9m",
    "outputId": "24fb3202-3913-4391-f76a-4950d17ffc92"
   },
   "outputs": [
    {
     "data": {
      "text/plain": [
       "array([ 0.052443  , -0.04092   ,  0.071409  , -0.050545  ,  0.011134  ,\n",
       "        0.024363  , -0.003295  , -0.081621  , -0.013807  , -0.0047292 ,\n",
       "        0.0062077 , -0.047232  , -0.041087  ,  0.030305  , -0.011236  ,\n",
       "        0.0024607 ,  0.10316   ,  0.026832  ,  0.033888  ,  0.04143   ,\n",
       "       -0.074284  , -0.064548  ,  0.12541   ,  0.069809  , -0.047025  ,\n",
       "        0.024811  , -0.038041  ,  0.045696  ,  0.0057668 , -0.05067   ,\n",
       "        0.020329  ,  0.0065136 , -0.016461  , -0.063523  ,  0.026372  ,\n",
       "        0.0060635 ,  0.063069  , -0.0024937 ,  0.030853  ,  0.0035123 ,\n",
       "       -0.016351  , -0.12949   , -0.0024779 , -0.015018  ,  0.023415  ,\n",
       "       -0.043484  , -0.066284  ,  0.0070623 ,  0.031937  ,  0.006673  ,\n",
       "        0.015953  ,  0.023214  ,  0.013413  , -0.028797  , -0.030572  ,\n",
       "        0.032028  ,  0.069296  , -0.025772  , -0.040117  ,  0.015852  ,\n",
       "        0.02472   , -0.033685  ,  0.12775   ,  0.032704  ,  0.0022198 ,\n",
       "       -0.021993  ,  0.032521  ,  0.062367  ,  0.019989  , -0.023689  ,\n",
       "       -0.037624  , -0.01256   , -0.019077  , -0.0057961 ,  0.019759  ,\n",
       "       -0.048178  ,  0.051417  , -0.032536  , -0.041734  , -0.041028  ,\n",
       "       -0.024487  , -0.0038178 , -0.021159  ,  0.039078  ,  0.0055603 ,\n",
       "       -0.051015  , -0.011698  ,  0.00083382, -0.05038   ,  0.028302  ,\n",
       "        0.013141  ,  0.022323  , -0.068747  ,  0.0088343 ,  0.017691  ,\n",
       "        0.069975  ,  0.037228  ,  0.050301  ,  0.069496  ,  0.013496  ,\n",
       "        0.080237  ,  0.014753  , -0.043446  ,  0.033243  , -0.034884  ,\n",
       "       -0.090885  , -0.018625  ,  0.01379   , -0.040875  , -0.047778  ,\n",
       "       -0.033682  ,  0.052875  ,  0.064089  ,  0.014937  , -0.073056  ,\n",
       "       -0.02338   , -0.0070838 , -0.0049992 , -0.040736  ,  0.029526  ,\n",
       "        0.011348  , -0.057071  , -0.041877  , -0.033034  ,  0.082066  ,\n",
       "        0.011835  , -0.079025  , -0.07496   , -0.010158  ,  0.099344  ,\n",
       "       -0.05808   , -0.014309  , -0.020818  , -0.014044  , -0.018994  ,\n",
       "       -0.0023971 ,  0.0058642 ,  0.032496  ,  0.017288  ,  0.0021053 ,\n",
       "        0.00082599, -0.0065356 ,  0.025561  ,  0.010011  , -0.019525  ,\n",
       "       -0.049476  , -0.070849  ,  0.011537  , -0.061502  , -0.010327  ,\n",
       "        0.015802  ,  0.050432  ,  0.0082408 , -0.05579   ,  0.025177  ,\n",
       "        0.0089925 ,  0.072541  ,  0.025991  ,  0.025176  ,  0.058569  ,\n",
       "       -0.011267  ,  0.039239  , -0.069499  , -0.071287  ,  0.0028714 ,\n",
       "       -0.018571  ,  0.033778  , -0.054593  , -0.046585  ,  0.032754  ,\n",
       "       -0.0091917 , -0.065177  , -0.012617  ,  0.066653  , -0.0033352 ,\n",
       "        0.058186  , -0.019804  ,  0.087738  , -0.019557  ,  0.053887  ,\n",
       "       -0.0024391 ,  0.015144  , -0.034862  ,  0.025289  ,  0.055735  ,\n",
       "       -0.034586  , -0.0058736 ,  0.072458  ,  0.047722  ,  0.013724  ,\n",
       "        0.0044542 ,  0.071839  , -0.0016391 , -0.040442  , -0.030786  ,\n",
       "       -0.0057782 , -0.010358  ,  0.028573  , -0.028973  , -0.030237  ,\n",
       "       -0.12871   ,  0.010946  ,  0.012394  , -0.053498  ,  0.003684  ,\n",
       "        0.017999  ,  0.0174    , -0.04956   , -0.014788  ,  0.011001  ,\n",
       "        0.096593  ,  0.00030317, -0.013351  , -0.012883  ,  0.021095  ,\n",
       "       -0.0069359 ,  0.017754  ,  0.033228  , -0.025944  , -0.022389  ,\n",
       "       -0.02476   , -0.044756  ,  0.0119    ,  0.11159   ,  0.010756  ,\n",
       "       -0.029323  ,  0.046949  ,  0.060354  , -0.016438  , -0.012938  ,\n",
       "       -0.0084748 , -0.044731  , -0.055054  , -0.055038  , -0.00075895,\n",
       "       -0.042868  ,  0.0087693 ,  0.011061  ,  0.036498  , -0.033417  ,\n",
       "        0.019074  , -0.011242  , -0.029292  ,  0.031354  , -0.020845  ,\n",
       "        0.0021849 ,  0.0087635 , -0.00041017, -0.081137  , -0.0033596 ,\n",
       "        0.050527  , -0.022836  , -0.02644   , -0.022249  ,  0.019031  ,\n",
       "        0.020129  , -0.029051  ,  0.024132  , -0.052946  , -0.026345  ,\n",
       "        0.039583  , -0.018468  , -0.027426  , -0.024001  ,  0.043185  ,\n",
       "       -0.02057   , -0.00034344,  0.0089557 ,  0.024485  , -0.00045798,\n",
       "        0.040158  ,  0.094485  , -0.085973  , -0.039599  ,  0.033357  ,\n",
       "       -0.029098  , -0.027731  ,  0.05821   , -0.0052349 ,  0.0065768 ,\n",
       "        0.092823  , -0.019743  , -0.011337  , -0.0052899 , -0.0066654 ,\n",
       "        0.031082  ,  0.024754  ,  0.026236  ,  0.036636  , -0.003526  ,\n",
       "       -0.0044188 , -0.018923  ,  0.0055742 , -0.05743   ,  0.019889  ,\n",
       "        0.045722  ,  0.074031  , -0.040778  ,  0.0044598 , -0.0013203 ],\n",
       "      dtype=float32)"
      ]
     },
     "execution_count": 21,
     "metadata": {},
     "output_type": "execute_result"
    }
   ],
   "source": [
    "word_vectors['language']"
   ]
  },
  {
   "cell_type": "code",
   "execution_count": null,
   "metadata": {
    "id": "34DfRpInAMrp"
   },
   "outputs": [],
   "source": []
  }
 ],
 "metadata": {
  "colab": {
   "name": "Untitled25.ipynb",
   "provenance": []
  },
  "kernelspec": {
   "display_name": "Python 3",
   "language": "python",
   "name": "python3"
  },
  "language_info": {
   "codemirror_mode": {
    "name": "ipython",
    "version": 3
   },
   "file_extension": ".py",
   "mimetype": "text/x-python",
   "name": "python",
   "nbconvert_exporter": "python",
   "pygments_lexer": "ipython3",
   "version": "3.8.5"
  }
 },
 "nbformat": 4,
 "nbformat_minor": 1
}
