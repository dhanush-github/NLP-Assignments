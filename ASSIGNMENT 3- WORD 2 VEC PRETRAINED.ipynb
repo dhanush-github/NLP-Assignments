{
 "cells": [
  {
   "cell_type": "code",
   "execution_count": 5,
   "metadata": {
    "colab": {
     "base_uri": "https://localhost:8080/"
    },
    "id": "DDzRNB1M7To-",
    "outputId": "da4f0f82-a2f2-4c37-968c-bc7455614818"
   },
   "outputs": [
    {
     "name": "stdout",
     "output_type": "stream",
     "text": [
      "[nltk_data] Downloading package punkt to /root/nltk_data...\n",
      "[nltk_data]   Unzipping tokenizers/punkt.zip.\n",
      "[nltk_data] Downloading package wordnet to /root/nltk_data...\n",
      "[nltk_data]   Unzipping corpora/wordnet.zip.\n",
      "[nltk_data] Downloading package stopwords to /root/nltk_data...\n",
      "[nltk_data]   Unzipping corpora/stopwords.zip.\n"
     ]
    }
   ],
   "source": [
    "from keras.preprocessing.text import Tokenizer\n",
    "from gensim.models.fasttext import FastText\n",
    "import numpy as np\n",
    "import matplotlib.pyplot as plt\n",
    "import nltk\n",
    "from string import punctuation\n",
    "from nltk.corpus import stopwords\n",
    "from nltk.tokenize import word_tokenize\n",
    "from nltk.stem import WordNetLemmatizer\n",
    "from nltk.tokenize import sent_tokenize\n",
    "from nltk import WordPunctTokenizer\n",
    "\n",
    "\n",
    "import nltk\n",
    "nltk.download('punkt')\n",
    "nltk.download('wordnet')\n",
    "nltk.download('stopwords')\n",
    "en_stop = set(nltk.corpus.stopwords.words('english'))\n",
    "\n",
    "%matplotlib inline"
   ]
  },
  {
   "cell_type": "markdown",
   "metadata": {
    "id": "9MhbGXeb-IBo"
   },
   "source": [
    "# WORD2VEC pretrained model for generating embeddings"
   ]
  },
  {
   "cell_type": "code",
   "execution_count": 1,
   "metadata": {
    "colab": {
     "base_uri": "https://localhost:8080/"
    },
    "id": "dn63DZVP3JLh",
    "outputId": "bd0bbfff-dbc2-4238-926d-c221bf3338d8"
   },
   "outputs": [
    {
     "name": "stdout",
     "output_type": "stream",
     "text": [
      "[==================================================] 100.0% 1662.8/1662.8MB downloaded\n"
     ]
    }
   ],
   "source": [
    "import gensim.downloader as api\n",
    "word2vec_model = api.load('word2vec-google-news-300')"
   ]
  },
  {
   "cell_type": "code",
   "execution_count": 2,
   "metadata": {
    "id": "Zjp0Jiig6_bw"
   },
   "outputs": [],
   "source": [
    "import re\n",
    "from nltk.stem import WordNetLemmatizer\n",
    "\n",
    "stemmer = WordNetLemmatizer()\n",
    "\n",
    "def preprocess_text(document):\n",
    "        # Remove all the special characters\n",
    "        document = re.sub(r'\\W', ' ', str(document))\n",
    "\n",
    "        # remove all single characters\n",
    "        document = re.sub(r'\\s+[a-zA-Z]\\s+', ' ', document)\n",
    "\n",
    "        # Remove single characters from the start\n",
    "        document = re.sub(r'\\^[a-zA-Z]\\s+', ' ', document)\n",
    "\n",
    "        # Substituting multiple spaces with single space\n",
    "        document = re.sub(r'\\s+', ' ', document, flags=re.I)\n",
    "\n",
    "        # Removing prefixed 'b'\n",
    "        document = re.sub(r'^b\\s+', '', document)\n",
    "\n",
    "        # Converting to Lowercase\n",
    "        document = document.lower()\n",
    "\n",
    "        # Lemmatization\n",
    "        tokens = document.split()\n",
    "        tokens = [stemmer.lemmatize(word) for word in tokens]\n",
    "        tokens = [word for word in tokens if word not in en_stop]\n",
    "        tokens = [word for word in tokens if len(word) > 3]\n",
    "\n",
    "        preprocessed_text = ' '.join(tokens)\n",
    "\n",
    "        return preprocessed_text"
   ]
  },
  {
   "cell_type": "code",
   "execution_count": 6,
   "metadata": {
    "colab": {
     "base_uri": "https://localhost:8080/"
    },
    "id": "2OPUQhYE3RYI",
    "outputId": "462c46a2-7847-4aea-9d8f-61ac95162244"
   },
   "outputs": [
    {
     "name": "stdout",
     "output_type": "stream",
     "text": [
      "drive computer program translate text language another respond spoken command summarize large volume text rapidly even real time good chance interacted form voiceoperated system digital assistant speech text dictation software customer service chatbots consumer convenience also play growing role enterprise solution help streamline business operation increase employee productivity simplify mission critical business process\n"
     ]
    }
   ],
   "source": [
    "sent = preprocess_text('NLP drives computer programs that translate text from one language to another respond to spoken commands and summarize large volumes of text rapidly even in real time. There is a good chance you interacted with NLP in the form of voiceoperated GPS systems, digital assistants, speech to text dictation software, customer service chatbots, and other consumer conveniences. But NLP also plays a growing role in enterprise solutions that help streamline business operations, increase employee productivity, and simplify mission-critical business processes.')\n",
    "print(sent)\n",
    "\n",
    "\n",
    "#final_corpus = [preprocess_text(sentence) for sentence in artificial_intelligence if sentence.strip() !='']\n",
    "\n",
    "#word_punctuation_tokenizer = nltk.WordPunctTokenizer()\n",
    "#word_tokenized_corpus = [word_punctuation_tokenizer.tokenize(sent) for sent in final_corpus]"
   ]
  },
  {
   "cell_type": "code",
   "execution_count": 8,
   "metadata": {
    "id": "vh3YnGyu7OSq"
   },
   "outputs": [],
   "source": [
    "word_punctuation_tokenizer = nltk.WordPunctTokenizer()\n",
    "word_tokenized_corpus = [word_punctuation_tokenizer.tokenize(sent)]\n"
   ]
  },
  {
   "cell_type": "code",
   "execution_count": 20,
   "metadata": {
    "id": "eNuhlh7Q83J5"
   },
   "outputs": [],
   "source": [
    "corps = word_tokenized_corpus[0]"
   ]
  },
  {
   "cell_type": "code",
   "execution_count": 21,
   "metadata": {
    "id": "kKWzJVLF8hVr"
   },
   "outputs": [],
   "source": [
    "corpus_1 = []\n",
    "for i in range(15):\n",
    "    x = corps[i]\n",
    "    corpus_1.append(x)"
   ]
  },
  {
   "cell_type": "code",
   "execution_count": 22,
   "metadata": {
    "colab": {
     "base_uri": "https://localhost:8080/"
    },
    "id": "hxpbmB_97f42",
    "outputId": "c2661a4e-701d-4f6f-bc1f-b645ae45af92"
   },
   "outputs": [
    {
     "data": {
      "text/plain": [
       "['drive',\n",
       " 'computer',\n",
       " 'program',\n",
       " 'translate',\n",
       " 'text',\n",
       " 'language',\n",
       " 'another',\n",
       " 'respond',\n",
       " 'spoken',\n",
       " 'command',\n",
       " 'summarize',\n",
       " 'large',\n",
       " 'volume',\n",
       " 'text',\n",
       " 'rapidly']"
      ]
     },
     "execution_count": 22,
     "metadata": {},
     "output_type": "execute_result"
    }
   ],
   "source": [
    "corpus_1"
   ]
  },
  {
   "cell_type": "code",
   "execution_count": 25,
   "metadata": {
    "colab": {
     "base_uri": "https://localhost:8080/",
     "height": 35
    },
    "id": "zydMhK5N8W2t",
    "outputId": "35f7791c-ae01-46d0-ce8b-b7fc5f980360"
   },
   "outputs": [
    {
     "data": {
      "application/vnd.google.colaboratory.intrinsic+json": {
       "type": "string"
      },
      "text/plain": [
       "'drive'"
      ]
     },
     "execution_count": 25,
     "metadata": {},
     "output_type": "execute_result"
    }
   ],
   "source": [
    "corpus_1[0]"
   ]
  },
  {
   "cell_type": "code",
   "execution_count": 26,
   "metadata": {
    "id": "VDaHN5cq7oMz"
   },
   "outputs": [],
   "source": [
    "vectors = []\n",
    "for i in corpus_1:\n",
    "    y = word2vec_model[i]\n",
    "    vectors.append(y)"
   ]
  },
  {
   "cell_type": "code",
   "execution_count": 27,
   "metadata": {
    "id": "KyOk84AJ7x-u"
   },
   "outputs": [],
   "source": [
    "word_vectors = dict(zip(corpus_1,vectors))"
   ]
  },
  {
   "cell_type": "code",
   "execution_count": 30,
   "metadata": {
    "colab": {
     "base_uri": "https://localhost:8080/"
    },
    "id": "qq8KaQt19m9C",
    "outputId": "4041e23e-4dcd-42fd-8c8d-e20a4709b8eb"
   },
   "outputs": [
    {
     "data": {
      "text/plain": [
       "array([ 2.30712891e-02,  1.68457031e-02,  1.54296875e-01,  1.27929688e-01,\n",
       "       -2.67578125e-01,  3.51562500e-02,  1.19140625e-01,  2.48046875e-01,\n",
       "        1.93359375e-01, -7.95898438e-02,  1.46484375e-01, -1.43554688e-01,\n",
       "       -3.04687500e-01,  3.46679688e-02, -1.85546875e-02,  1.06933594e-01,\n",
       "       -1.52343750e-01,  2.89062500e-01,  2.35595703e-02, -3.80859375e-01,\n",
       "        1.09863281e-01,  4.41406250e-01,  3.75976562e-02, -1.22680664e-02,\n",
       "        1.62353516e-02, -2.24609375e-01,  7.61718750e-02, -3.12500000e-02,\n",
       "       -2.16064453e-02,  1.49414062e-01, -4.02832031e-02, -4.46777344e-02,\n",
       "       -1.72851562e-01,  3.32031250e-02,  1.50390625e-01, -5.05371094e-02,\n",
       "        2.72216797e-02,  3.00781250e-01, -1.33789062e-01, -7.56835938e-02,\n",
       "        1.93359375e-01, -1.98242188e-01, -1.27563477e-02,  4.19921875e-01,\n",
       "       -2.19726562e-01,  1.44531250e-01, -3.93066406e-02,  1.94335938e-01,\n",
       "       -3.12500000e-01,  1.84570312e-01,  1.48773193e-04, -1.67968750e-01,\n",
       "       -7.37304688e-02, -3.12500000e-02,  1.57226562e-01,  3.30078125e-01,\n",
       "       -1.42578125e-01, -3.16406250e-01, -7.32421875e-02, -5.76171875e-02,\n",
       "        1.02050781e-01, -1.08886719e-01,  1.24023438e-01, -2.50244141e-02,\n",
       "       -2.49023438e-01,  1.25976562e-01, -1.79687500e-01,  3.32031250e-01,\n",
       "        7.14111328e-03,  2.51953125e-01,  4.34570312e-02, -4.34570312e-02,\n",
       "       -3.90625000e-01,  1.76757812e-01, -1.13525391e-02, -1.97753906e-02,\n",
       "        2.79296875e-01,  2.36328125e-01,  1.19140625e-01,  5.59082031e-02,\n",
       "        1.73828125e-01, -1.10839844e-01, -4.95605469e-02,  2.13867188e-01,\n",
       "        6.17675781e-02,  1.38671875e-01, -4.45556641e-03,  2.55859375e-01,\n",
       "        1.80664062e-01,  5.88378906e-02, -6.59179688e-02, -2.08007812e-01,\n",
       "       -1.19140625e-01, -1.57226562e-01,  5.02929688e-02, -6.29882812e-02,\n",
       "        5.00488281e-02, -7.27539062e-02,  1.74560547e-02, -3.56445312e-02,\n",
       "       -1.93359375e-01,  3.93066406e-02, -3.36914062e-02, -1.07421875e-01,\n",
       "        5.78613281e-02, -8.20312500e-02,  1.74560547e-02, -1.65039062e-01,\n",
       "        1.46484375e-01, -3.08837891e-02, -3.86718750e-01,  2.49023438e-01,\n",
       "        8.74023438e-02, -2.15820312e-01, -4.10156250e-02,  1.60156250e-01,\n",
       "        1.85546875e-01, -2.27050781e-02, -3.73535156e-02,  7.86132812e-02,\n",
       "       -1.46484375e-01,  6.78710938e-02,  1.26953125e-01,  3.30078125e-01,\n",
       "        1.11328125e-01,  9.27734375e-02, -3.45703125e-01, -1.41601562e-01,\n",
       "       -5.29785156e-02, -1.50390625e-01, -7.81250000e-02, -1.27929688e-01,\n",
       "       -4.02343750e-01, -1.41601562e-01,  8.44726562e-02,  1.08398438e-01,\n",
       "       -4.44335938e-02,  3.73535156e-02,  5.61523438e-02, -1.91406250e-01,\n",
       "        1.54296875e-01, -5.12695312e-02, -6.49414062e-02, -8.30078125e-02,\n",
       "        7.17773438e-02, -1.33789062e-01,  1.05468750e-01,  3.33984375e-01,\n",
       "       -1.08398438e-01,  1.91650391e-02,  2.14843750e-01,  2.15820312e-01,\n",
       "       -1.05468750e-01, -1.44531250e-01,  4.32128906e-02, -2.71484375e-01,\n",
       "       -3.78906250e-01,  1.09863281e-01, -8.15429688e-02, -6.12792969e-02,\n",
       "       -1.33789062e-01,  9.71679688e-02, -1.04370117e-02, -1.21093750e-01,\n",
       "       -2.44140625e-01,  1.02050781e-01,  1.10839844e-01, -1.00585938e-01,\n",
       "        1.71875000e-01, -3.61328125e-02, -4.39453125e-02,  2.83203125e-01,\n",
       "       -8.93554688e-02, -1.70898438e-01,  2.46093750e-01,  1.16699219e-01,\n",
       "        8.39843750e-02, -1.32812500e-01, -1.61132812e-01, -1.39648438e-01,\n",
       "       -8.59375000e-02, -1.37695312e-01, -9.32617188e-02, -1.33789062e-01,\n",
       "        1.65039062e-01,  4.93164062e-02, -1.21093750e-01, -2.11914062e-01,\n",
       "        1.61132812e-01, -1.07421875e-01, -3.97949219e-02, -3.51562500e-01,\n",
       "       -5.02929688e-02,  1.46484375e-01, -4.68750000e-02,  4.17480469e-02,\n",
       "       -1.27929688e-01, -9.76562500e-02, -2.46093750e-01,  6.78710938e-02,\n",
       "       -2.30468750e-01,  1.80664062e-02,  3.54003906e-02,  7.32421875e-02,\n",
       "       -2.23632812e-01, -1.25976562e-01,  2.12890625e-01, -3.93066406e-02,\n",
       "       -2.41699219e-02, -9.61914062e-02,  7.51953125e-02, -1.46484375e-01,\n",
       "       -1.49414062e-01, -8.83789062e-02, -4.88281250e-02,  2.32421875e-01,\n",
       "        3.30078125e-01,  1.59179688e-01, -2.35351562e-01, -1.25976562e-01,\n",
       "        2.68554688e-02, -5.29785156e-02, -6.59179688e-02, -2.17773438e-01,\n",
       "       -6.37817383e-03, -2.53906250e-01,  2.28515625e-01,  4.93164062e-02,\n",
       "        3.54003906e-02,  1.66992188e-01, -7.27539062e-02, -2.53906250e-01,\n",
       "       -1.34765625e-01,  3.69140625e-01,  1.83593750e-01, -1.64062500e-01,\n",
       "        2.26562500e-01, -8.88671875e-02,  3.69140625e-01,  5.54199219e-02,\n",
       "       -3.63769531e-02, -1.48437500e-01,  9.13085938e-02,  2.47955322e-04,\n",
       "        2.67578125e-01, -1.63085938e-01,  1.19628906e-01,  2.77343750e-01,\n",
       "       -1.49414062e-01,  1.33789062e-01, -8.25195312e-02, -1.74804688e-01,\n",
       "       -1.77734375e-01,  2.06054688e-01,  5.07812500e-02, -2.08007812e-01,\n",
       "       -1.74804688e-01,  9.66796875e-02,  6.98242188e-02, -5.79833984e-04,\n",
       "        9.22851562e-02,  7.95898438e-02,  1.41601562e-01,  8.72802734e-03,\n",
       "       -8.05664062e-02,  4.80957031e-02,  2.49023438e-01, -1.64062500e-01,\n",
       "       -4.66308594e-02, -2.81250000e-01, -1.66015625e-01, -2.22656250e-01,\n",
       "       -2.32421875e-01,  1.32812500e-01,  4.15039062e-02,  1.15234375e-01,\n",
       "       -7.66601562e-02, -1.10839844e-01, -1.97265625e-01,  3.06396484e-02,\n",
       "       -1.03515625e-01,  2.49023438e-02, -2.52685547e-02,  3.39355469e-02,\n",
       "        4.29687500e-02, -1.44531250e-01,  2.12402344e-02,  2.28271484e-02,\n",
       "       -1.88476562e-01,  3.22265625e-01, -1.13281250e-01, -7.61718750e-02,\n",
       "        2.94921875e-01, -1.33789062e-01, -1.80664062e-02, -6.25610352e-03,\n",
       "       -1.62353516e-02,  5.98144531e-02,  1.21582031e-01,  4.17480469e-02],\n",
       "      dtype=float32)"
      ]
     },
     "execution_count": 30,
     "metadata": {},
     "output_type": "execute_result"
    }
   ],
   "source": [
    "word_vectors['language']"
   ]
  }
 ],
 "metadata": {
  "colab": {
   "collapsed_sections": [],
   "name": "w2vvv.ipynb",
   "provenance": []
  },
  "kernelspec": {
   "display_name": "Python 3",
   "language": "python",
   "name": "python3"
  },
  "language_info": {
   "codemirror_mode": {
    "name": "ipython",
    "version": 3
   },
   "file_extension": ".py",
   "mimetype": "text/x-python",
   "name": "python",
   "nbconvert_exporter": "python",
   "pygments_lexer": "ipython3",
   "version": "3.8.5"
  }
 },
 "nbformat": 4,
 "nbformat_minor": 1
}
