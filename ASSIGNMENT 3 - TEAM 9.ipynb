{
 "cells": [
  {
   "cell_type": "markdown",
   "metadata": {
    "id": "SYjl3lpc2u0Q"
   },
   "source": [
    "# (1) Implementing  word embedding models trained using **our** own data"
   ]
  },
  {
   "cell_type": "code",
   "execution_count": 2,
   "metadata": {
    "colab": {
     "base_uri": "https://localhost:8080/"
    },
    "id": "wUsJldWVOfvf",
    "outputId": "7081d6b9-170c-45c5-bdf4-8d52c679ae92"
   },
   "outputs": [
    {
     "name": "stdout",
     "output_type": "stream",
     "text": [
      "Requirement already satisfied: wikipedia in /usr/local/lib/python3.7/dist-packages (1.4.0)\n",
      "Requirement already satisfied: beautifulsoup4 in /usr/local/lib/python3.7/dist-packages (from wikipedia) (4.6.3)\n",
      "Requirement already satisfied: requests<3.0.0,>=2.0.0 in /usr/local/lib/python3.7/dist-packages (from wikipedia) (2.27.1)\n",
      "Requirement already satisfied: certifi>=2017.4.17 in /usr/local/lib/python3.7/dist-packages (from requests<3.0.0,>=2.0.0->wikipedia) (2021.10.8)\n",
      "Requirement already satisfied: idna<4,>=2.5 in /usr/local/lib/python3.7/dist-packages (from requests<3.0.0,>=2.0.0->wikipedia) (2.10)\n",
      "Requirement already satisfied: charset-normalizer~=2.0.0 in /usr/local/lib/python3.7/dist-packages (from requests<3.0.0,>=2.0.0->wikipedia) (2.0.12)\n",
      "Requirement already satisfied: urllib3<1.27,>=1.21.1 in /usr/local/lib/python3.7/dist-packages (from requests<3.0.0,>=2.0.0->wikipedia) (1.24.3)\n"
     ]
    }
   ],
   "source": [
    "! pip install wikipedia"
   ]
  },
  {
   "cell_type": "code",
   "execution_count": 3,
   "metadata": {
    "colab": {
     "base_uri": "https://localhost:8080/"
    },
    "id": "XAq8SSttOyhe",
    "outputId": "5a9fbbe8-5e32-427d-d223-1477a87c7e45"
   },
   "outputs": [
    {
     "name": "stdout",
     "output_type": "stream",
     "text": [
      "[nltk_data] Downloading package punkt to /root/nltk_data...\n",
      "[nltk_data]   Package punkt is already up-to-date!\n",
      "[nltk_data] Downloading package wordnet to /root/nltk_data...\n",
      "[nltk_data]   Package wordnet is already up-to-date!\n",
      "[nltk_data] Downloading package stopwords to /root/nltk_data...\n",
      "[nltk_data]   Package stopwords is already up-to-date!\n"
     ]
    }
   ],
   "source": [
    "from keras.preprocessing.text import Tokenizer\n",
    "from gensim.models.fasttext import FastText\n",
    "import numpy as np\n",
    "import matplotlib.pyplot as plt\n",
    "import nltk\n",
    "from string import punctuation\n",
    "from nltk.corpus import stopwords\n",
    "from nltk.tokenize import word_tokenize\n",
    "from nltk.stem import WordNetLemmatizer\n",
    "from nltk.tokenize import sent_tokenize\n",
    "from nltk import WordPunctTokenizer\n",
    "\n",
    "import wikipedia\n",
    "import nltk\n",
    "nltk.download('punkt')\n",
    "nltk.download('wordnet')\n",
    "nltk.download('stopwords')\n",
    "en_stop = set(nltk.corpus.stopwords.words('english'))\n",
    "\n",
    "%matplotlib inline"
   ]
  },
  {
   "cell_type": "code",
   "execution_count": 4,
   "metadata": {
    "id": "nZfBKbYbPCzi"
   },
   "outputs": [],
   "source": [
    "artificial_intelligence = wikipedia.page(\"Artificial Intelligence\").content\n",
    "#machine_learning = wikipedia.page(\"Machine Learning\").content\n",
    "deep_learning = wikipedia.page(\"Deep Learning\").content\n",
    "neural_network = wikipedia.page(\"Neural Network\").content\n",
    "\n",
    "artificial_intelligence = sent_tokenize(artificial_intelligence)\n",
    "#machine_learning = sent_tokenize(machine_learning)\n",
    "deep_learning = sent_tokenize(deep_learning)\n",
    "neural_network = sent_tokenize(neural_network)\n",
    "\n",
    "#artificial_intelligence.extend(machine_learning)\n",
    "artificial_intelligence.extend(deep_learning)\n",
    "artificial_intelligence.extend(neural_network)"
   ]
  },
  {
   "cell_type": "code",
   "execution_count": 5,
   "metadata": {
    "id": "G8fmlBG0PgWy"
   },
   "outputs": [],
   "source": [
    "import re\n",
    "from nltk.stem import WordNetLemmatizer\n",
    "\n",
    "stemmer = WordNetLemmatizer()\n",
    "\n",
    "def preprocess_text(document):\n",
    "        # Remove all the special characters\n",
    "        document = re.sub(r'\\W', ' ', str(document))\n",
    "\n",
    "        # remove all single characters\n",
    "        document = re.sub(r'\\s+[a-zA-Z]\\s+', ' ', document)\n",
    "\n",
    "        # Remove single characters from the start\n",
    "        document = re.sub(r'\\^[a-zA-Z]\\s+', ' ', document)\n",
    "\n",
    "        # Substituting multiple spaces with single space\n",
    "        document = re.sub(r'\\s+', ' ', document, flags=re.I)\n",
    "\n",
    "        # Removing prefixed 'b'\n",
    "        document = re.sub(r'^b\\s+', '', document)\n",
    "\n",
    "        # Converting to Lowercase\n",
    "        document = document.lower()\n",
    "\n",
    "        # Lemmatization\n",
    "        tokens = document.split()\n",
    "        tokens = [stemmer.lemmatize(word) for word in tokens]\n",
    "        tokens = [word for word in tokens if word not in en_stop]\n",
    "        tokens = [word for word in tokens if len(word) > 3]\n",
    "\n",
    "        preprocessed_text = ' '.join(tokens)\n",
    "\n",
    "        return preprocessed_text"
   ]
  },
  {
   "cell_type": "code",
   "execution_count": 6,
   "metadata": {
    "colab": {
     "base_uri": "https://localhost:8080/"
    },
    "id": "GEg4Kqt7P-58",
    "outputId": "20f12be5-764e-4f61-bbcd-6954b55932f4"
   },
   "outputs": [
    {
     "name": "stdout",
     "output_type": "stream",
     "text": [
      "artificial intelligence advanced technology present\n"
     ]
    }
   ],
   "source": [
    "sent = preprocess_text(\"Artificial intelligence, is the most advanced technology of the present era\")\n",
    "print(sent)\n",
    "\n",
    "\n",
    "final_corpus = [preprocess_text(sentence) for sentence in artificial_intelligence if sentence.strip() !='']\n",
    "\n",
    "word_punctuation_tokenizer = nltk.WordPunctTokenizer()\n",
    "word_tokenized_corpus = [word_punctuation_tokenizer.tokenize(sent) for sent in final_corpus]\n"
   ]
  },
  {
   "cell_type": "code",
   "execution_count": 7,
   "metadata": {
    "id": "Wne6x6ihQG7P"
   },
   "outputs": [],
   "source": [
    "embedding_size = 60\n",
    "window_size = 40\n",
    "min_word = 5\n",
    "down_sampling = 1e-2"
   ]
  },
  {
   "cell_type": "markdown",
   "metadata": {
    "id": "AnCCUn7F3fnZ"
   },
   "source": [
    "# FAST TEXT"
   ]
  },
  {
   "cell_type": "code",
   "execution_count": 8,
   "metadata": {
    "colab": {
     "base_uri": "https://localhost:8080/"
    },
    "id": "t5AnGFJsQs-1",
    "outputId": "82294eb5-299c-414d-d091-2fa6b3eb91f8"
   },
   "outputs": [
    {
     "name": "stdout",
     "output_type": "stream",
     "text": [
      "CPU times: user 42.7 s, sys: 436 ms, total: 43.1 s\n",
      "Wall time: 37.8 s\n"
     ]
    }
   ],
   "source": [
    "%%time\n",
    "ft_model = FastText(word_tokenized_corpus,\n",
    "                      size=embedding_size,\n",
    "                      window=window_size,\n",
    "                      min_count=min_word,\n",
    "                      sample=down_sampling,\n",
    "                      sg=1,\n",
    "                      iter=100)"
   ]
  },
  {
   "cell_type": "code",
   "execution_count": 9,
   "metadata": {
    "colab": {
     "base_uri": "https://localhost:8080/"
    },
    "id": "SxadPZHeQxMx",
    "outputId": "ed499b19-8424-4f16-ed66-b97e1eda5eef"
   },
   "outputs": [
    {
     "name": "stdout",
     "output_type": "stream",
     "text": [
      "[ 0.6932765  -0.2963536  -0.21637559  0.06758623  0.15932657  0.52195823\n",
      " -0.24512057 -0.32482928 -0.07606503 -0.08539195  0.03418946  0.81393313\n",
      "  0.04692402  0.05112171  0.21053742  0.40145722  0.23286313  0.07525598\n",
      " -0.06820988  0.50691974  0.41983938 -0.16697241 -0.12868842  0.33029443\n",
      " -0.04305311  0.04409973  0.15355237 -0.15530716 -0.16474764  0.16932997\n",
      " -0.91203403  0.05106799 -0.4583516   0.30981684  0.11186435 -0.11394573\n",
      " -0.43446967  0.1897681  -0.04982232 -0.01309912 -0.32498053 -0.45466\n",
      " -0.13298832 -0.03639678 -0.6618926  -0.1780947  -0.149266    0.33501023\n",
      "  0.28702512 -0.63633794 -0.05051721 -0.34511605  0.12756354  0.13793111\n",
      " -0.26423684  0.17532864 -0.09753798  0.07096051 -0.29031393  0.3396976 ]\n"
     ]
    }
   ],
   "source": [
    "print(ft_model.wv['artificial'])"
   ]
  },
  {
   "cell_type": "code",
   "execution_count": 10,
   "metadata": {
    "colab": {
     "base_uri": "https://localhost:8080/"
    },
    "id": "KCmGEnInRDn9",
    "outputId": "aecfc60a-0d98-4021-f41d-c53f781eea66"
   },
   "outputs": [
    {
     "name": "stdout",
     "output_type": "stream",
     "text": [
      "artificial:['intelligence', 'superintelligence', 'paradigm', 'reference', 'issn']\n",
      "intelligence:['artificial', 'superintelligence', 'intelligent', 'general', 'existential']\n",
      "machine:['definition', 'future', 'springer', 'still', 'perspective']\n",
      "network:['neural', 'recurrent', 'convolutional', 'deep', 'feedforward']\n",
      "recurrent:['network', 'neural', 'schmidhuber', 'short', 'memory']\n",
      "deep:['learning', 'network', 'specifically', 'neural', 'scale']\n"
     ]
    }
   ],
   "source": [
    "semantically_similar_words = {words: [item[0] for item in ft_model.wv.most_similar([words], topn=5)]\n",
    "                  for words in ['artificial', 'intelligence', 'machine', 'network', 'recurrent', 'deep']}\n",
    "\n",
    "for k,v in semantically_similar_words.items():\n",
    "    print(k+\":\"+str(v))"
   ]
  },
  {
   "cell_type": "code",
   "execution_count": 11,
   "metadata": {
    "colab": {
     "base_uri": "https://localhost:8080/"
    },
    "id": "KOWggEWjRqFV",
    "outputId": "10576ccd-458d-4858-cb50-8cfe843018d0"
   },
   "outputs": [
    {
     "name": "stdout",
     "output_type": "stream",
     "text": [
      "0.7923245\n"
     ]
    }
   ],
   "source": [
    "print(ft_model.wv.similarity(w1='artificial', w2='intelligence'))"
   ]
  },
  {
   "cell_type": "code",
   "execution_count": 12,
   "metadata": {
    "id": "F--m2XJ8qMRI"
   },
   "outputs": [],
   "source": [
    "import gensim\n",
    "import pandas as pd"
   ]
  },
  {
   "cell_type": "markdown",
   "metadata": {
    "id": "ySt0beNX3pQY"
   },
   "source": [
    "# WORD2VEC"
   ]
  },
  {
   "cell_type": "code",
   "execution_count": 13,
   "metadata": {
    "id": "KXhrph73tosW"
   },
   "outputs": [],
   "source": [
    "from gensim.models.callbacks import CallbackAny2Vec\n",
    "from gensim.models import Word2Vec\n",
    "\n",
    "# init callback class\n",
    "class callback(CallbackAny2Vec):\n",
    "    \"\"\"\n",
    "    Callback to print loss after each epoch\n",
    "    \"\"\"\n",
    "    def __init__(self):\n",
    "        self.epoch = 0\n",
    "\n",
    "    def on_epoch_end(self, model):\n",
    "        loss = model.get_latest_training_loss()\n",
    "        \n",
    "        if self.epoch == 0:\n",
    "            print('Loss after epoch {}: {}'.format(self.epoch, loss))\n",
    "        elif self.epoch % 100 == 0:\n",
    "            print('Loss after epoch {}: {}'.format(self.epoch, loss- self.loss_previous_step))\n",
    "        \n",
    "        \n",
    "        self.epoch += 1\n",
    "        self.loss_previous_step = loss"
   ]
  },
  {
   "cell_type": "code",
   "execution_count": 14,
   "metadata": {
    "colab": {
     "base_uri": "https://localhost:8080/"
    },
    "id": "ZWaAcUsPuH42",
    "outputId": "af4fc674-c1ed-4972-d475-b5fbb0462358"
   },
   "outputs": [
    {
     "name": "stdout",
     "output_type": "stream",
     "text": [
      "Loss after epoch 0: 8380.736328125\n",
      "Loss after epoch 100: 6090.8125\n",
      "Loss after epoch 200: 5202.25\n",
      "Loss after epoch 300: 5224.375\n",
      "Loss after epoch 400: 3977.75\n",
      "Loss after epoch 500: 3305.0\n",
      "Loss after epoch 600: 3095.5\n",
      "Loss after epoch 700: 3187.5\n",
      "Loss after epoch 800: 2782.75\n",
      "Loss after epoch 900: 2642.0\n",
      "Loss after epoch 1000: 2850.0\n"
     ]
    },
    {
     "data": {
      "text/plain": [
       "(1478426, 13491478)"
      ]
     },
     "execution_count": 14,
     "metadata": {},
     "output_type": "execute_result"
    }
   ],
   "source": [
    "# init word2vec class\n",
    "w2v_model = Word2Vec(size = 300,\n",
    "                     window = 15,\n",
    "                     min_count = 2,\n",
    "                     workers = 20,\n",
    "                     sg = 1,\n",
    "                     negative = 5,\n",
    "                     sample = 1e-5)\n",
    "# build vovab\n",
    "\n",
    "\n",
    "w2v_model.build_vocab(word_tokenized_corpus)\n",
    "\n",
    "  \n",
    "# train the w2v model\n",
    "#start = time.time()\n",
    "w2v_model.train(word_tokenized_corpus, \n",
    "                total_examples=w2v_model.corpus_count, \n",
    "                epochs=1001, \n",
    "                report_delay=1,\n",
    "                compute_loss = True, # set compute_loss = True\n",
    "                callbacks=[callback()]) # add the callback class\n",
    "#end = time.time()\n",
    "\n",
    "\n",
    "#print(\"elapsedtime in seconds :\"+ str(end - start))\n",
    "# save the word2vec model\n",
    "#w2v_model.save('C:\\\\wiki\\\\word2vec.model')"
   ]
  },
  {
   "cell_type": "code",
   "execution_count": 15,
   "metadata": {
    "colab": {
     "base_uri": "https://localhost:8080/"
    },
    "id": "eQhGivcLvczA",
    "outputId": "5f59435c-fae5-4f66-a8b1-8c76cce8fd24"
   },
   "outputs": [
    {
     "name": "stdout",
     "output_type": "stream",
     "text": [
      "Vocab size: 1699\n",
      "Top 5 words similar to artificial: [('intelligence', 0.8088740706443787), ('paradigm', 0.6970927715301514), ('selected', 0.6918691396713257), ('psychology', 0.6886146664619446), ('selection', 0.6807595491409302)]\n",
      "Top 5 words similar to intelligence: [('artificial', 0.8088740706443787), ('business', 0.7853144407272339), ('mccarthy', 0.7451132535934448), ('regulation', 0.7437580227851868), ('regulating', 0.7382546663284302)]\n",
      "Similarity between artificial and intelligence:0.8088741\n",
      "Similarity between machine and network:0.2644036\n"
     ]
    }
   ],
   "source": [
    "#reloaded_w2v_model = Word2Vec.load('C:\\\\AmazonReviewsCellPhones\\\\word2vec.model')\n",
    "words = list(w2v_model.wv.vocab)\n",
    "print('Vocab size: '+str(len(words)))\n",
    "w1 = 'artificial'\n",
    "print(\"Top 5 words similar to artificial:\",\\\n",
    "      w2v_model.wv.most_similar(positive = w1,topn =5))\n",
    "w1 = 'intelligence'\n",
    "print(\"Top 5 words similar to intelligence:\",\\\n",
    "      w2v_model.wv.most_similar(positive = w1,topn =5))\n",
    "print(\"Similarity between artificial and intelligence:\"+\\\n",
    "      str(w2v_model.wv.similarity(w1=\"artificial\",w2=\"intelligence\")))\n",
    "print(\"Similarity between machine and network:\"+\\\n",
    "      str(w2v_model.wv.similarity(w1=\"machine\",w2=\"network\")))"
   ]
  },
  {
   "cell_type": "code",
   "execution_count": 16,
   "metadata": {
    "colab": {
     "base_uri": "https://localhost:8080/"
    },
    "id": "JNR5I9SeAYT4",
    "outputId": "ddf223c2-0805-4988-cd4d-d56c11c00f51"
   },
   "outputs": [
    {
     "name": "stdout",
     "output_type": "stream",
     "text": [
      "Requirement already satisfied: glove-python-binary in /usr/local/lib/python3.7/dist-packages (0.2.0)\n",
      "Requirement already satisfied: numpy in /usr/local/lib/python3.7/dist-packages (from glove-python-binary) (1.21.5)\n",
      "Requirement already satisfied: scipy in /usr/local/lib/python3.7/dist-packages (from glove-python-binary) (1.4.1)\n"
     ]
    }
   ],
   "source": [
    "!pip install glove-python-binary"
   ]
  },
  {
   "cell_type": "markdown",
   "metadata": {
    "id": "LNz1ohls3tC_"
   },
   "source": [
    "# **GLOVE**"
   ]
  },
  {
   "cell_type": "code",
   "execution_count": 17,
   "metadata": {
    "id": "rgUyQIkIB4pU"
   },
   "outputs": [],
   "source": [
    "import nltk\n",
    "import re\n",
    "import numpy as np\n",
    "\n",
    "from glove import Corpus, Glove\n",
    "from nltk.corpus import gutenberg\n",
    "from multiprocessing import Pool\n",
    "from scipy import spatial"
   ]
  },
  {
   "cell_type": "code",
   "execution_count": 18,
   "metadata": {
    "colab": {
     "base_uri": "https://localhost:8080/"
    },
    "id": "D8q0hfVVA9RX",
    "outputId": "e6ee21ef-ff56-4374-e803-621bcb3ec744"
   },
   "outputs": [
    {
     "name": "stdout",
     "output_type": "stream",
     "text": [
      "Performing 20 training epochs with 2 threads\n",
      "Epoch 0\n",
      "Epoch 1\n",
      "Epoch 2\n",
      "Epoch 3\n",
      "Epoch 4\n",
      "Epoch 5\n",
      "Epoch 6\n",
      "Epoch 7\n",
      "Epoch 8\n",
      "Epoch 9\n",
      "Epoch 10\n",
      "Epoch 11\n",
      "Epoch 12\n",
      "Epoch 13\n",
      "Epoch 14\n",
      "Epoch 15\n",
      "Epoch 16\n",
      "Epoch 17\n",
      "Epoch 18\n",
      "Epoch 19\n"
     ]
    }
   ],
   "source": [
    "corpus = Corpus()\n",
    "corpus.fit(word_tokenized_corpus, window = 3)    # window parameter denotes the distance of context\n",
    "glove = Glove(no_components = 50, learning_rate = 0.05)\n",
    "glove.fit(matrix = corpus.matrix, epochs = 20, verbose = True)"
   ]
  },
  {
   "cell_type": "code",
   "execution_count": 19,
   "metadata": {
    "id": "LkuwRD8aCGqp"
   },
   "outputs": [],
   "source": [
    "glove.add_dictionary(corpus.dictionary) "
   ]
  },
  {
   "cell_type": "code",
   "execution_count": 20,
   "metadata": {
    "colab": {
     "base_uri": "https://localhost:8080/"
    },
    "id": "WYU5F_htCG6O",
    "outputId": "11a008f2-2f33-4e77-c90f-14e9f2780bb0"
   },
   "outputs": [
    {
     "data": {
      "text/plain": [
       "<glove.glove.Glove at 0x7fe9f02806d0>"
      ]
     },
     "execution_count": 20,
     "metadata": {},
     "output_type": "execute_result"
    }
   ],
   "source": [
    "glove.save('glove_model')\n",
    "glove.load('glove_model')"
   ]
  },
  {
   "cell_type": "code",
   "execution_count": 27,
   "metadata": {
    "colab": {
     "base_uri": "https://localhost:8080/"
    },
    "id": "g3SExbukCJST",
    "outputId": "0bdf1316-af6f-4fdb-a983-d8b521db4ec2"
   },
   "outputs": [
    {
     "data": {
      "text/plain": [
       "[('intelligence', 0.9954028719274185),\n",
       " ('general', 0.9751589688527823),\n",
       " ('neuron', 0.942457578711369),\n",
       " ('biological', 0.8795480814242774)]"
      ]
     },
     "execution_count": 27,
     "metadata": {},
     "output_type": "execute_result"
    }
   ],
   "source": [
    "glove.most_similar('artificial', number = 5)"
   ]
  },
  {
   "cell_type": "code",
   "execution_count": 28,
   "metadata": {
    "id": "A4S3bl7NCOOC"
   },
   "outputs": [],
   "source": [
    "def vector_converter(word):\n",
    "    idx = glove.dictionary[word]\n",
    "    return glove.word_vectors[idx]"
   ]
  },
  {
   "cell_type": "code",
   "execution_count": 29,
   "metadata": {
    "id": "a7c4qxzQCXUV"
   },
   "outputs": [],
   "source": [
    "v1 = vector_converter('artificial')\n",
    "v2 = vector_converter('intelligence')"
   ]
  },
  {
   "cell_type": "code",
   "execution_count": 39,
   "metadata": {
    "colab": {
     "base_uri": "https://localhost:8080/"
    },
    "id": "_sBhbeh_hgPc",
    "outputId": "69a0827a-f011-454d-de4a-e99fad90c1e5"
   },
   "outputs": [
    {
     "data": {
      "text/plain": [
       "array([-0.01275158,  0.19094547, -0.16517368, -0.0078705 , -0.06852876,\n",
       "        0.1867336 , -0.05529471, -0.15929799, -0.39391046, -0.20847612,\n",
       "        0.19480649,  0.21482315, -0.30011154, -0.19262956,  0.32755457,\n",
       "       -0.35811749,  0.16197272,  0.06802437,  0.21331267,  0.13861714,\n",
       "       -0.09679476,  0.35493147, -0.06071992, -0.22855641, -0.04897889,\n",
       "       -0.16547452, -0.45300933, -0.22666161,  0.21669483,  0.19505024,\n",
       "       -0.18246718,  0.13291124,  0.25918245,  0.31996886, -0.11926836,\n",
       "        0.0431102 ,  0.02712656,  0.33462299, -0.20646125, -0.15794015,\n",
       "       -0.24313383, -0.13858669,  0.0454516 ,  0.03470849, -0.0253744 ,\n",
       "       -0.13682146,  0.28566293,  0.29993809, -0.27727892,  0.09663655])"
      ]
     },
     "execution_count": 39,
     "metadata": {},
     "output_type": "execute_result"
    }
   ],
   "source": [
    "v1"
   ]
  },
  {
   "cell_type": "code",
   "execution_count": 40,
   "metadata": {
    "colab": {
     "base_uri": "https://localhost:8080/"
    },
    "id": "Sx3uv0OahrBE",
    "outputId": "a17812b2-1b49-4b58-c9bc-21c01b230f46"
   },
   "outputs": [
    {
     "data": {
      "text/plain": [
       "array([-0.03741554,  0.14837838, -0.13320892,  0.01578165, -0.05847838,\n",
       "        0.15946866, -0.04142263, -0.18431478, -0.32309879, -0.23160163,\n",
       "        0.17581459,  0.19895385, -0.24876428, -0.1619936 ,  0.28261536,\n",
       "       -0.31574723,  0.15893725,  0.10704771,  0.18341188,  0.10587967,\n",
       "       -0.06381416,  0.30972264, -0.01982153, -0.20297415, -0.05126804,\n",
       "       -0.14822189, -0.37772032, -0.17962885,  0.20141353,  0.16351597,\n",
       "       -0.15468125,  0.11927515,  0.21576431,  0.29306675, -0.10212786,\n",
       "        0.03953097,  0.03982473,  0.28774534, -0.18764283, -0.13255864,\n",
       "       -0.20910495, -0.13127452,  0.06850415,  0.03811644, -0.05766696,\n",
       "       -0.11310544,  0.25565167,  0.25120973, -0.24047595,  0.08470625])"
      ]
     },
     "execution_count": 40,
     "metadata": {},
     "output_type": "execute_result"
    }
   ],
   "source": [
    "v2"
   ]
  },
  {
   "cell_type": "code",
   "execution_count": 30,
   "metadata": {
    "id": "hiA88YBkDzNC"
   },
   "outputs": [],
   "source": [
    "from scipy import spatial"
   ]
  },
  {
   "cell_type": "code",
   "execution_count": 41,
   "metadata": {
    "colab": {
     "base_uri": "https://localhost:8080/"
    },
    "id": "bNrqWXCOD--1",
    "outputId": "762511e2-9506-4030-82a9-8271b0027fdf"
   },
   "outputs": [
    {
     "data": {
      "text/plain": [
       "0.9954028719274185"
      ]
     },
     "execution_count": 41,
     "metadata": {},
     "output_type": "execute_result"
    }
   ],
   "source": [
    "1 - spatial.distance.cosine(v1, v2)"
   ]
  },
  {
   "cell_type": "markdown",
   "metadata": {
    "id": "OO_oEJyF3_Je"
   },
   "source": [
    "# FLAIR"
   ]
  },
  {
   "cell_type": "code",
   "execution_count": 32,
   "metadata": {
    "colab": {
     "base_uri": "https://localhost:8080/"
    },
    "id": "DnFtQOrkFWKZ",
    "outputId": "912123bb-e90a-4bb5-f519-82ca7601f41d"
   },
   "outputs": [
    {
     "name": "stdout",
     "output_type": "stream",
     "text": [
      "Requirement already satisfied: flair in /usr/local/lib/python3.7/dist-packages (0.11.1)\n",
      "Requirement already satisfied: transformers>=4.0.0 in /usr/local/lib/python3.7/dist-packages (from flair) (4.18.0)\n",
      "Requirement already satisfied: wikipedia-api in /usr/local/lib/python3.7/dist-packages (from flair) (0.5.4)\n",
      "Requirement already satisfied: tqdm>=4.26.0 in /usr/local/lib/python3.7/dist-packages (from flair) (4.64.0)\n",
      "Requirement already satisfied: sentencepiece==0.1.95 in /usr/local/lib/python3.7/dist-packages (from flair) (0.1.95)\n",
      "Requirement already satisfied: conllu>=4.0 in /usr/local/lib/python3.7/dist-packages (from flair) (4.4.1)\n",
      "Requirement already satisfied: regex in /usr/local/lib/python3.7/dist-packages (from flair) (2019.12.20)\n",
      "Requirement already satisfied: konoha<5.0.0,>=4.0.0 in /usr/local/lib/python3.7/dist-packages (from flair) (4.6.5)\n",
      "Requirement already satisfied: janome in /usr/local/lib/python3.7/dist-packages (from flair) (0.4.2)\n",
      "Requirement already satisfied: scikit-learn>=0.21.3 in /usr/local/lib/python3.7/dist-packages (from flair) (1.0.2)\n",
      "Requirement already satisfied: sqlitedict>=1.6.0 in /usr/local/lib/python3.7/dist-packages (from flair) (2.0.0)\n",
      "Requirement already satisfied: ftfy in /usr/local/lib/python3.7/dist-packages (from flair) (6.1.1)\n",
      "Requirement already satisfied: more-itertools~=8.8.0 in /usr/local/lib/python3.7/dist-packages (from flair) (8.8.0)\n",
      "Requirement already satisfied: pptree in /usr/local/lib/python3.7/dist-packages (from flair) (3.1)\n",
      "Requirement already satisfied: matplotlib>=2.2.3 in /usr/local/lib/python3.7/dist-packages (from flair) (3.2.2)\n",
      "Requirement already satisfied: hyperopt>=0.2.7 in /usr/local/lib/python3.7/dist-packages (from flair) (0.2.7)\n",
      "Requirement already satisfied: torch!=1.8,>=1.5.0 in /usr/local/lib/python3.7/dist-packages (from flair) (1.10.0+cu111)\n",
      "Requirement already satisfied: gdown==3.12.2 in /usr/local/lib/python3.7/dist-packages (from flair) (3.12.2)\n",
      "Requirement already satisfied: tabulate in /usr/local/lib/python3.7/dist-packages (from flair) (0.8.9)\n",
      "Requirement already satisfied: bpemb>=0.3.2 in /usr/local/lib/python3.7/dist-packages (from flair) (0.3.3)\n",
      "Requirement already satisfied: deprecated>=1.2.4 in /usr/local/lib/python3.7/dist-packages (from flair) (1.2.13)\n",
      "Requirement already satisfied: huggingface-hub in /usr/local/lib/python3.7/dist-packages (from flair) (0.5.1)\n",
      "Requirement already satisfied: langdetect in /usr/local/lib/python3.7/dist-packages (from flair) (1.0.9)\n",
      "Requirement already satisfied: gensim>=3.4.0 in /usr/local/lib/python3.7/dist-packages (from flair) (3.6.0)\n",
      "Requirement already satisfied: lxml in /usr/local/lib/python3.7/dist-packages (from flair) (4.2.6)\n",
      "Requirement already satisfied: mpld3==0.3 in /usr/local/lib/python3.7/dist-packages (from flair) (0.3)\n",
      "Requirement already satisfied: python-dateutil>=2.6.1 in /usr/local/lib/python3.7/dist-packages (from flair) (2.8.2)\n",
      "Requirement already satisfied: segtok>=1.5.7 in /usr/local/lib/python3.7/dist-packages (from flair) (1.5.11)\n",
      "Requirement already satisfied: requests[socks] in /usr/local/lib/python3.7/dist-packages (from gdown==3.12.2->flair) (2.27.1)\n",
      "Requirement already satisfied: six in /usr/local/lib/python3.7/dist-packages (from gdown==3.12.2->flair) (1.15.0)\n",
      "Requirement already satisfied: filelock in /usr/local/lib/python3.7/dist-packages (from gdown==3.12.2->flair) (3.6.0)\n",
      "Requirement already satisfied: numpy in /usr/local/lib/python3.7/dist-packages (from bpemb>=0.3.2->flair) (1.21.5)\n",
      "Requirement already satisfied: wrapt<2,>=1.10 in /usr/local/lib/python3.7/dist-packages (from deprecated>=1.2.4->flair) (1.14.0)\n",
      "Requirement already satisfied: smart-open>=1.2.1 in /usr/local/lib/python3.7/dist-packages (from gensim>=3.4.0->flair) (5.2.1)\n",
      "Requirement already satisfied: scipy>=0.18.1 in /usr/local/lib/python3.7/dist-packages (from gensim>=3.4.0->flair) (1.4.1)\n",
      "Requirement already satisfied: py4j in /usr/local/lib/python3.7/dist-packages (from hyperopt>=0.2.7->flair) (0.10.9.5)\n",
      "Requirement already satisfied: networkx>=2.2 in /usr/local/lib/python3.7/dist-packages (from hyperopt>=0.2.7->flair) (2.6.3)\n",
      "Requirement already satisfied: future in /usr/local/lib/python3.7/dist-packages (from hyperopt>=0.2.7->flair) (0.16.0)\n",
      "Requirement already satisfied: cloudpickle in /usr/local/lib/python3.7/dist-packages (from hyperopt>=0.2.7->flair) (1.3.0)\n",
      "Requirement already satisfied: importlib-metadata<4.0.0,>=3.7.0 in /usr/local/lib/python3.7/dist-packages (from konoha<5.0.0,>=4.0.0->flair) (3.10.1)\n",
      "Requirement already satisfied: overrides<4.0.0,>=3.0.0 in /usr/local/lib/python3.7/dist-packages (from konoha<5.0.0,>=4.0.0->flair) (3.1.0)\n",
      "Requirement already satisfied: typing-extensions>=3.6.4 in /usr/local/lib/python3.7/dist-packages (from importlib-metadata<4.0.0,>=3.7.0->konoha<5.0.0,>=4.0.0->flair) (4.1.1)\n",
      "Requirement already satisfied: zipp>=0.5 in /usr/local/lib/python3.7/dist-packages (from importlib-metadata<4.0.0,>=3.7.0->konoha<5.0.0,>=4.0.0->flair) (3.8.0)\n",
      "Requirement already satisfied: kiwisolver>=1.0.1 in /usr/local/lib/python3.7/dist-packages (from matplotlib>=2.2.3->flair) (1.4.2)\n",
      "Requirement already satisfied: cycler>=0.10 in /usr/local/lib/python3.7/dist-packages (from matplotlib>=2.2.3->flair) (0.11.0)\n",
      "Requirement already satisfied: pyparsing!=2.0.4,!=2.1.2,!=2.1.6,>=2.0.1 in /usr/local/lib/python3.7/dist-packages (from matplotlib>=2.2.3->flair) (3.0.8)\n",
      "Requirement already satisfied: urllib3<1.27,>=1.21.1 in /usr/local/lib/python3.7/dist-packages (from requests[socks]->gdown==3.12.2->flair) (1.24.3)\n",
      "Requirement already satisfied: idna<4,>=2.5 in /usr/local/lib/python3.7/dist-packages (from requests[socks]->gdown==3.12.2->flair) (2.10)\n",
      "Requirement already satisfied: certifi>=2017.4.17 in /usr/local/lib/python3.7/dist-packages (from requests[socks]->gdown==3.12.2->flair) (2021.10.8)\n",
      "Requirement already satisfied: charset-normalizer~=2.0.0 in /usr/local/lib/python3.7/dist-packages (from requests[socks]->gdown==3.12.2->flair) (2.0.12)\n",
      "Requirement already satisfied: threadpoolctl>=2.0.0 in /usr/local/lib/python3.7/dist-packages (from scikit-learn>=0.21.3->flair) (3.1.0)\n",
      "Requirement already satisfied: joblib>=0.11 in /usr/local/lib/python3.7/dist-packages (from scikit-learn>=0.21.3->flair) (1.1.0)\n",
      "Requirement already satisfied: pyyaml>=5.1 in /usr/local/lib/python3.7/dist-packages (from transformers>=4.0.0->flair) (6.0)\n",
      "Requirement already satisfied: sacremoses in /usr/local/lib/python3.7/dist-packages (from transformers>=4.0.0->flair) (0.0.49)\n",
      "Requirement already satisfied: packaging>=20.0 in /usr/local/lib/python3.7/dist-packages (from transformers>=4.0.0->flair) (21.3)\n",
      "Requirement already satisfied: tokenizers!=0.11.3,<0.13,>=0.11.1 in /usr/local/lib/python3.7/dist-packages (from transformers>=4.0.0->flair) (0.12.1)\n",
      "Requirement already satisfied: wcwidth>=0.2.5 in /usr/local/lib/python3.7/dist-packages (from ftfy->flair) (0.2.5)\n",
      "Requirement already satisfied: PySocks!=1.5.7,>=1.5.6 in /usr/local/lib/python3.7/dist-packages (from requests[socks]->gdown==3.12.2->flair) (1.7.1)\n",
      "Requirement already satisfied: click in /usr/local/lib/python3.7/dist-packages (from sacremoses->transformers>=4.0.0->flair) (7.1.2)\n"
     ]
    }
   ],
   "source": [
    "!pip install flair"
   ]
  },
  {
   "cell_type": "code",
   "execution_count": 33,
   "metadata": {
    "id": "jELnqag-Gb2x"
   },
   "outputs": [],
   "source": [
    "from flair.embeddings import FlairEmbeddings"
   ]
  },
  {
   "cell_type": "code",
   "execution_count": 34,
   "metadata": {
    "id": "BdpI0PLaIH3d"
   },
   "outputs": [],
   "source": [
    "flair_embedding_forward = FlairEmbeddings('news-forward')"
   ]
  },
  {
   "cell_type": "code",
   "execution_count": 35,
   "metadata": {
    "id": "LEPbuiqLVkB3"
   },
   "outputs": [],
   "source": [
    "from flair.data import Sentence\n",
    "from flair.models import SequenceTagger\n"
   ]
  },
  {
   "cell_type": "code",
   "execution_count": 36,
   "metadata": {
    "id": "Yrl3Bn5rIUcf"
   },
   "outputs": [],
   "source": [
    "from flair.embeddings import WordEmbeddings, FlairEmbeddings"
   ]
  },
  {
   "cell_type": "code",
   "execution_count": 37,
   "metadata": {
    "colab": {
     "base_uri": "https://localhost:8080/"
    },
    "id": "3NPq2Kp9WXi1",
    "outputId": "889804f9-81cf-4365-e4e3-cbbb05bb5023"
   },
   "outputs": [
    {
     "data": {
      "text/plain": [
       "[Sentence: \"NLP drives computer programs that translate text from one language to another respond to spoken commands and summarize large volumes of text rapidly even in real time . There is a good chance you interacted with NLP in the form of voiceoperated GPS systems , digital assistants , speech to text dictation software , customer service chatbots , and other consumer conveniences . But NLP also plays a growing role in enterprise solutions that help streamline business operations , increase employee productivity , and simplify mission-critical business processes .\"]"
      ]
     },
     "execution_count": 37,
     "metadata": {},
     "output_type": "execute_result"
    }
   ],
   "source": [
    "from flair.embeddings import FlairEmbeddings\n",
    "\n",
    "# init embedding\n",
    "flair_embedding_forward = FlairEmbeddings('news-forward')\n",
    "\n",
    "# create a sentence\n",
    "sentence = Sentence('NLP drives computer programs that translate text from one language to another respond to spoken commands and summarize large volumes of text rapidly even in real time. There is a good chance you interacted with NLP in the form of voiceoperated GPS systems, digital assistants, speech to text dictation software, customer service chatbots, and other consumer conveniences. But NLP also plays a growing role in enterprise solutions that help streamline business operations, increase employee productivity, and simplify mission-critical business processes.')\n",
    "\n",
    "# embed words in sentence\n",
    "flair_embedding_forward.embed(sentence)"
   ]
  },
  {
   "cell_type": "code",
   "execution_count": 38,
   "metadata": {
    "colab": {
     "base_uri": "https://localhost:8080/"
    },
    "id": "9jiWaYSwWhw9",
    "outputId": "eff68f3c-2989-4461-99ad-17cfc5acb5c8"
   },
   "outputs": [
    {
     "name": "stdout",
     "output_type": "stream",
     "text": [
      "Token[0]: \"NLP\"\n",
      "tensor([ 3.0688e-04,  3.6357e-05, -7.4025e-02,  ..., -3.1189e-03,\n",
      "        -1.0819e-02,  5.4082e-03])\n",
      "Token[1]: \"drives\"\n",
      "tensor([-0.0006,  0.0003,  0.0083,  ..., -0.0001, -0.0432,  0.0178])\n",
      "Token[2]: \"computer\"\n",
      "tensor([-0.0023, -0.0015,  0.0522,  ..., -0.0067,  0.0250,  0.0136])\n",
      "Token[3]: \"programs\"\n",
      "tensor([-0.0010, -0.0001,  0.0544,  ..., -0.0005, -0.0026,  0.0048])\n",
      "Token[4]: \"that\"\n",
      "tensor([-3.4260e-04,  3.9312e-05,  3.9482e-02,  ..., -2.0388e-02,\n",
      "        -9.5657e-04,  1.7101e-03])\n",
      "Token[5]: \"translate\"\n",
      "tensor([-2.1845e-03, -1.5394e-04,  1.1978e-01,  ..., -1.8368e-05,\n",
      "         4.4195e-04,  9.7938e-03])\n",
      "Token[6]: \"text\"\n",
      "tensor([-0.0034,  0.0028,  0.0263,  ..., -0.0020,  0.0050,  0.0063])\n",
      "Token[7]: \"from\"\n",
      "tensor([-6.7279e-05, -3.4755e-04,  4.1317e-02,  ..., -9.6794e-05,\n",
      "         3.8929e-03, -5.1897e-03])\n",
      "Token[8]: \"one\"\n",
      "tensor([ 0.0004,  0.0002,  0.0076,  ..., -0.0031,  0.0026,  0.0755])\n",
      "Token[9]: \"language\"\n",
      "tensor([-6.5698e-04,  3.9553e-04,  1.2800e-02,  ..., -6.1270e-05,\n",
      "         6.7962e-03,  1.2886e-02])\n",
      "Token[10]: \"to\"\n",
      "tensor([-4.9777e-04, -5.0647e-05,  6.3182e-02,  ..., -2.0929e-05,\n",
      "         4.8364e-03,  3.8300e-02])\n",
      "Token[11]: \"another\"\n",
      "tensor([ 3.8071e-04, -7.3977e-05, -2.0710e-02,  ..., -7.1147e-04,\n",
      "         5.5512e-03,  2.6228e-02])\n",
      "Token[12]: \"respond\"\n",
      "tensor([ 0.0112,  0.0004,  0.0681,  ..., -0.0311,  0.0003,  0.0048])\n",
      "Token[13]: \"to\"\n",
      "tensor([-2.5377e-04,  1.7180e-06,  3.2560e-02,  ..., -7.5357e-05,\n",
      "         6.8092e-04,  3.0914e-03])\n",
      "Token[14]: \"spoken\"\n",
      "tensor([-0.0016,  0.0014,  0.0321,  ...,  0.0049, -0.0016,  0.0219])\n",
      "Token[15]: \"commands\"\n",
      "tensor([-0.0019,  0.0003,  0.0315,  ...,  0.0008,  0.0030,  0.0034])\n",
      "Token[16]: \"and\"\n",
      "tensor([-0.0031,  0.0002,  0.0161,  ...,  0.0005,  0.0023,  0.0022])\n",
      "Token[17]: \"summarize\"\n",
      "tensor([-0.0016, -0.0009, -0.0057,  ..., -0.0009, -0.0011,  0.0065])\n",
      "Token[18]: \"large\"\n",
      "tensor([-1.1952e-03, -6.0729e-05,  4.3612e-02,  ..., -1.0749e-02,\n",
      "         1.9993e-03,  4.1601e-02])\n",
      "Token[19]: \"volumes\"\n",
      "tensor([-2.6531e-03, -1.8259e-05,  3.2109e-02,  ..., -1.0408e-03,\n",
      "        -1.6557e-04,  1.7413e-03])\n",
      "Token[20]: \"of\"\n",
      "tensor([ 0.0003,  0.0022,  0.0110,  ..., -0.0004,  0.0015, -0.0025])\n",
      "Token[21]: \"text\"\n",
      "tensor([-0.0043,  0.0026,  0.0271,  ..., -0.0012,  0.0086,  0.0044])\n",
      "Token[22]: \"rapidly\"\n",
      "tensor([-0.0010, -0.0003,  0.0265,  ..., -0.0011,  0.0075,  0.0079])\n",
      "Token[23]: \"even\"\n",
      "tensor([-3.2737e-05,  1.2475e-03,  9.5887e-02,  ..., -6.6187e-05,\n",
      "        -9.9351e-04, -2.3942e-03])\n",
      "Token[24]: \"in\"\n",
      "tensor([-0.0012,  0.0008,  0.0573,  ...,  0.0005,  0.0010,  0.0287])\n",
      "Token[25]: \"real\"\n",
      "tensor([-6.8851e-03,  6.5350e-04, -2.9360e-02,  ...,  3.1149e-05,\n",
      "         6.5537e-04, -6.1653e-02])\n",
      "Token[26]: \"time\"\n",
      "tensor([-7.5769e-04,  1.2911e-06,  6.0796e-02,  ..., -6.9804e-04,\n",
      "         1.3739e-03,  3.8601e-03])\n",
      "Token[27]: \".\"\n",
      "tensor([ 9.2942e-04,  2.4029e-04,  9.5396e-02,  ..., -2.8283e-05,\n",
      "         1.0975e-03,  5.9527e-03])\n",
      "Token[28]: \"There\"\n",
      "tensor([-0.0010, -0.0005, -0.1136,  ...,  0.0011,  0.0020,  0.0893])\n",
      "Token[29]: \"is\"\n",
      "tensor([ 0.0193, -0.0039,  0.0750,  ..., -0.0034,  0.0223,  0.0042])\n",
      "Token[30]: \"a\"\n",
      "tensor([ 8.4220e-02,  2.5971e-06,  3.8189e-02,  ..., -1.0564e-03,\n",
      "         2.3262e-02,  8.0819e-03])\n",
      "Token[31]: \"good\"\n",
      "tensor([ 0.0004,  0.0014, -0.0178,  ..., -0.0014, -0.2287,  0.0111])\n",
      "Token[32]: \"chance\"\n",
      "tensor([-6.5490e-03, -2.2747e-05,  1.0866e-02,  ..., -1.2975e-02,\n",
      "         1.0718e-03,  2.1309e-03])\n",
      "Token[33]: \"you\"\n",
      "tensor([-4.0702e-05, -5.7784e-03,  1.1379e-02,  ..., -2.6623e-03,\n",
      "         1.2877e-03,  1.7114e-02])\n",
      "Token[34]: \"interacted\"\n",
      "tensor([-6.3676e-05,  6.4461e-05,  9.7605e-03,  ...,  5.1943e-04,\n",
      "        -2.2608e-04,  1.4202e-02])\n",
      "Token[35]: \"with\"\n",
      "tensor([-0.0020,  0.0004,  0.0268,  ..., -0.0005, -0.0006,  0.0120])\n",
      "Token[36]: \"NLP\"\n",
      "tensor([ 2.0348e-04,  1.8271e-04, -9.2814e-02,  ..., -1.3826e-03,\n",
      "        -6.7361e-03, -5.9187e-05])\n",
      "Token[37]: \"in\"\n",
      "tensor([-2.4745e-03, -1.4071e-05,  5.5566e-02,  ...,  9.7657e-04,\n",
      "         9.7386e-04,  3.0067e-02])\n",
      "Token[38]: \"the\"\n",
      "tensor([-2.0110e-03,  8.1452e-05,  7.3197e-02,  ...,  3.1939e-02,\n",
      "        -8.2236e-03,  4.3880e-02])\n",
      "Token[39]: \"form\"\n",
      "tensor([-0.0005,  0.0001,  0.0428,  ..., -0.0175,  0.0076,  0.0017])\n",
      "Token[40]: \"of\"\n",
      "tensor([ 0.0018,  0.0007,  0.0488,  ..., -0.0007,  0.0065,  0.0045])\n",
      "Token[41]: \"voiceoperated\"\n",
      "tensor([-1.1179e-06,  8.3241e-05, -4.9962e-03,  ..., -2.6266e-04,\n",
      "         5.1519e-04,  2.1433e-02])\n",
      "Token[42]: \"GPS\"\n",
      "tensor([ 0.0005,  0.0007,  0.0698,  ..., -0.0007,  0.0126,  0.0041])\n",
      "Token[43]: \"systems\"\n",
      "tensor([-6.3842e-04, -3.1356e-05,  4.3049e-02,  ..., -1.2032e-03,\n",
      "        -3.4089e-03,  9.1702e-03])\n",
      "Token[44]: \",\"\n",
      "tensor([-3.2860e-05, -2.0670e-04,  2.6698e-02,  ..., -1.7487e-04,\n",
      "         2.9700e-03,  9.6060e-03])\n",
      "Token[45]: \"digital\"\n",
      "tensor([-0.0052,  0.0002, -0.0050,  ..., -0.0003, -0.0017, -0.0015])\n",
      "Token[46]: \"assistants\"\n",
      "tensor([-1.3064e-04,  4.8776e-05,  2.1074e-02,  ..., -2.7458e-04,\n",
      "        -5.4922e-04,  9.4676e-03])\n",
      "Token[47]: \",\"\n",
      "tensor([-8.4821e-05, -4.1181e-04,  4.3136e-02,  ..., -5.4905e-05,\n",
      "         5.6790e-04,  9.9045e-03])\n",
      "Token[48]: \"speech\"\n",
      "tensor([-0.0018,  0.0173,  0.0015,  ..., -0.0059, -0.0007,  0.0131])\n",
      "Token[49]: \"to\"\n",
      "tensor([-5.3169e-04, -5.8950e-05,  2.6983e-02,  ..., -2.6620e-04,\n",
      "         5.4370e-03,  3.6492e-02])\n",
      "Token[50]: \"text\"\n",
      "tensor([-0.0025,  0.0019,  0.0942,  ..., -0.0016,  0.0056,  0.0104])\n",
      "Token[51]: \"dictation\"\n",
      "tensor([ 0.0019,  0.0002,  0.0316,  ..., -0.0003, -0.0010,  0.0231])\n",
      "Token[52]: \"software\"\n",
      "tensor([-0.0008,  0.0002,  0.0707,  ..., -0.0002,  0.0021,  0.0095])\n",
      "Token[53]: \",\"\n",
      "tensor([-7.3583e-05, -2.9440e-04,  3.3408e-02,  ..., -8.2284e-05,\n",
      "         1.0690e-03,  9.4671e-03])\n",
      "Token[54]: \"customer\"\n",
      "tensor([-0.0005, -0.0011,  0.0606,  ..., -0.0012,  0.0001,  0.0551])\n",
      "Token[55]: \"service\"\n",
      "tensor([-2.6424e-04, -3.2429e-05,  1.1423e-01,  ..., -5.7988e-03,\n",
      "        -5.2198e-04,  5.1493e-03])\n",
      "Token[56]: \"chatbots\"\n",
      "tensor([-0.0001, -0.0012,  0.0834,  ..., -0.0008, -0.0012,  0.0092])\n",
      "Token[57]: \",\"\n",
      "tensor([-5.6608e-05, -4.3620e-04,  4.3599e-02,  ..., -9.8085e-05,\n",
      "         6.4549e-04,  6.5776e-03])\n",
      "Token[58]: \"and\"\n",
      "tensor([-0.0016,  0.0018,  0.0424,  ...,  0.0003,  0.0029,  0.0013])\n",
      "Token[59]: \"other\"\n",
      "tensor([ 0.0002, -0.0004, -0.0237,  ..., -0.0072, -0.0034,  0.0110])\n",
      "Token[60]: \"consumer\"\n",
      "tensor([ 0.0015, -0.0010,  0.0229,  ..., -0.0007,  0.0002,  0.0100])\n",
      "Token[61]: \"conveniences\"\n",
      "tensor([-0.0005, -0.0003,  0.0112,  ..., -0.0023, -0.0002,  0.0094])\n",
      "Token[62]: \".\"\n",
      "tensor([ 9.8483e-04,  2.2648e-04,  1.4676e-01,  ..., -6.9383e-05,\n",
      "         1.4810e-03,  4.2780e-03])\n",
      "Token[63]: \"But\"\n",
      "tensor([-6.1043e-04,  3.3721e-04, -5.4945e-03,  ...,  3.4521e-06,\n",
      "        -1.9066e-02,  1.7700e-02])\n",
      "Token[64]: \"NLP\"\n",
      "tensor([-6.6441e-05,  1.7783e-04, -8.2649e-02,  ..., -2.0188e-03,\n",
      "        -5.7922e-03,  3.3096e-03])\n",
      "Token[65]: \"also\"\n",
      "tensor([ 1.4324e-03, -1.5424e-04,  6.5816e-02,  ...,  5.9810e-07,\n",
      "        -1.9835e-02,  5.3455e-04])\n",
      "Token[66]: \"plays\"\n",
      "tensor([-0.0049, -0.0014,  0.0384,  ..., -0.0015, -0.0004,  0.0227])\n",
      "Token[67]: \"a\"\n",
      "tensor([ 0.0115,  0.0002,  0.0467,  ..., -0.0027,  0.0368, -0.0068])\n",
      "Token[68]: \"growing\"\n",
      "tensor([ 0.0002, -0.0118, -0.0243,  ..., -0.0004,  0.0005, -0.0011])\n",
      "Token[69]: \"role\"\n",
      "tensor([-0.0035,  0.0004,  0.0417,  ..., -0.0015,  0.0394,  0.0176])\n",
      "Token[70]: \"in\"\n",
      "tensor([-1.5814e-02,  8.7386e-05,  6.3094e-02,  ...,  1.8760e-04,\n",
      "         3.3638e-04,  2.2197e-03])\n",
      "Token[71]: \"enterprise\"\n",
      "tensor([-0.0159,  0.0003,  0.0005,  ..., -0.0005, -0.0003,  0.0038])\n",
      "Token[72]: \"solutions\"\n",
      "tensor([ 1.0782e-03, -5.8107e-06,  1.0291e-01,  ..., -1.0258e-03,\n",
      "        -3.8697e-03,  1.0013e-02])\n",
      "Token[73]: \"that\"\n",
      "tensor([-2.6643e-03,  2.0563e-05,  3.5197e-02,  ..., -1.0799e-02,\n",
      "        -1.1937e-04,  3.8497e-03])\n",
      "Token[74]: \"help\"\n",
      "tensor([ 0.0021,  0.0007,  0.0088,  ..., -0.0009, -0.0014,  0.0185])\n",
      "Token[75]: \"streamline\"\n",
      "tensor([-0.0024,  0.0010, -0.0056,  ...,  0.0001,  0.0002,  0.0415])\n",
      "Token[76]: \"business\"\n",
      "tensor([-2.0593e-03, -2.0031e-07,  1.7693e-02,  ..., -7.0910e-03,\n",
      "        -5.9508e-03,  8.3244e-03])\n",
      "Token[77]: \"operations\"\n",
      "tensor([ 1.4859e-04,  4.6363e-05,  2.4544e-02,  ..., -7.5828e-04,\n",
      "        -7.5549e-04,  2.2586e-02])\n",
      "Token[78]: \",\"\n",
      "tensor([-1.0691e-05, -9.1021e-05,  9.3856e-03,  ..., -8.2182e-05,\n",
      "         1.2968e-03,  8.2071e-03])\n",
      "Token[79]: \"increase\"\n",
      "tensor([-0.0031,  0.0017,  0.0079,  ...,  0.0004, -0.0002,  0.0054])\n",
      "Token[80]: \"employee\"\n",
      "tensor([-8.9955e-05,  5.4322e-05,  1.9491e-02,  ...,  1.1061e-04,\n",
      "        -3.4565e-04,  2.6922e-02])\n",
      "Token[81]: \"productivity\"\n",
      "tensor([-0.0006, -0.0003,  0.0660,  ..., -0.0006,  0.0024,  0.0024])\n",
      "Token[82]: \",\"\n",
      "tensor([-4.9215e-05, -1.4460e-04,  2.6901e-02,  ..., -8.0146e-06,\n",
      "         8.0457e-04,  6.9638e-03])\n",
      "Token[83]: \"and\"\n",
      "tensor([-0.0049,  0.0002,  0.0463,  ...,  0.0005, -0.0001,  0.0022])\n",
      "Token[84]: \"simplify\"\n",
      "tensor([-0.0034, -0.0017,  0.0081,  ..., -0.0006,  0.0002,  0.0032])\n",
      "Token[85]: \"mission-critical\"\n",
      "tensor([ 6.0946e-04,  4.9433e-05, -1.1711e-03,  ..., -1.5328e-04,\n",
      "        -8.8685e-04,  7.1594e-02])\n",
      "Token[86]: \"business\"\n",
      "tensor([-1.6877e-03, -2.2821e-05,  2.1765e-02,  ..., -8.3371e-03,\n",
      "        -6.2161e-03,  8.6481e-03])\n",
      "Token[87]: \"processes\"\n",
      "tensor([-1.6270e-03, -1.2361e-04,  2.0866e-02,  ..., -1.0633e-03,\n",
      "        -6.4971e-05,  1.5576e-02])\n",
      "Token[88]: \".\"\n",
      "tensor([ 6.0734e-04,  3.4733e-04,  1.6641e-01,  ..., -1.2625e-05,\n",
      "         1.0624e-03,  5.9044e-03])\n"
     ]
    }
   ],
   "source": [
    "for token in sentence:\n",
    "    print(token)\n",
    "    print(token.embedding)\n"
   ]
  },
  {
   "cell_type": "markdown",
   "metadata": {
    "id": "llCUpKX42-ml"
   },
   "source": [
    "# (2) Glove pretrained model for generating embeddings"
   ]
  },
  {
   "cell_type": "code",
   "execution_count": 42,
   "metadata": {
    "id": "4qFUDOEwgeL9"
   },
   "outputs": [],
   "source": [
    "import gensim.downloader as api"
   ]
  },
  {
   "cell_type": "code",
   "execution_count": 50,
   "metadata": {
    "id": "JK8PafbMjRIO"
   },
   "outputs": [],
   "source": [
    "# to load a glove pretrained model\n",
    "glove_m = api.load(\"glove-wiki-gigaword-50\")"
   ]
  },
  {
   "cell_type": "code",
   "execution_count": 57,
   "metadata": {
    "id": "D5_eXnTpre8I"
   },
   "outputs": [],
   "source": [
    "corpus_1 = []\n",
    "for i in range(20):\n",
    "    x = word_tokenized_corpus[i]\n",
    "    corpus_1.append(x)\n",
    "\n"
   ]
  },
  {
   "cell_type": "code",
   "execution_count": 61,
   "metadata": {
    "id": "bZsWiSGZuW8t"
   },
   "outputs": [],
   "source": [
    "new_corpus = corpus_1[1]"
   ]
  },
  {
   "cell_type": "code",
   "execution_count": 70,
   "metadata": {
    "colab": {
     "base_uri": "https://localhost:8080/"
    },
    "id": "XY1g8qYDwnDV",
    "outputId": "bea9dd6a-fe8b-4bdf-d4f6-2f5ea7685615"
   },
   "outputs": [
    {
     "data": {
      "text/plain": [
       "['leading',\n",
       " 'textbook',\n",
       " 'define',\n",
       " 'field',\n",
       " 'study',\n",
       " 'intelligent',\n",
       " 'agent',\n",
       " 'system',\n",
       " 'perceives',\n",
       " 'environment',\n",
       " 'take',\n",
       " 'action',\n",
       " 'maximize',\n",
       " 'chance',\n",
       " 'achieving',\n",
       " 'goal',\n",
       " 'popular',\n",
       " 'account',\n",
       " 'term',\n",
       " 'artificial',\n",
       " 'intelligence',\n",
       " 'describe',\n",
       " 'machine',\n",
       " 'mimic',\n",
       " 'cognitive',\n",
       " 'function',\n",
       " 'human',\n",
       " 'associate',\n",
       " 'human',\n",
       " 'mind',\n",
       " 'learning',\n",
       " 'problem',\n",
       " 'solving',\n",
       " 'however',\n",
       " 'definition',\n",
       " 'rejected',\n",
       " 'major',\n",
       " 'researcher',\n",
       " 'application',\n",
       " 'include',\n",
       " 'advanced',\n",
       " 'search',\n",
       " 'engine',\n",
       " 'google',\n",
       " 'recommendation',\n",
       " 'system',\n",
       " 'used',\n",
       " 'youtube',\n",
       " 'amazon',\n",
       " 'netflix',\n",
       " 'understanding',\n",
       " 'human',\n",
       " 'speech',\n",
       " 'siri',\n",
       " 'alexa',\n",
       " 'self',\n",
       " 'driving',\n",
       " 'tesla',\n",
       " 'automated',\n",
       " 'decision',\n",
       " 'making',\n",
       " 'competing',\n",
       " 'highest',\n",
       " 'level',\n",
       " 'strategic',\n",
       " 'game',\n",
       " 'system',\n",
       " 'chess']"
      ]
     },
     "execution_count": 70,
     "metadata": {},
     "output_type": "execute_result"
    }
   ],
   "source": [
    "new_corpus"
   ]
  },
  {
   "cell_type": "code",
   "execution_count": 69,
   "metadata": {
    "colab": {
     "base_uri": "https://localhost:8080/"
    },
    "id": "3CFd03kzwi8G",
    "outputId": "d55b55c4-4109-4108-9d8f-39bde25f4cb7"
   },
   "outputs": [
    {
     "data": {
      "text/plain": [
       "68"
      ]
     },
     "execution_count": 69,
     "metadata": {},
     "output_type": "execute_result"
    }
   ],
   "source": [
    "len(new_corpus)"
   ]
  },
  {
   "cell_type": "code",
   "execution_count": 63,
   "metadata": {
    "id": "bzIwIyMevY1T"
   },
   "outputs": [],
   "source": [
    "vectors = []"
   ]
  },
  {
   "cell_type": "code",
   "execution_count": 64,
   "metadata": {
    "id": "J3fNFtlktXB2"
   },
   "outputs": [],
   "source": [
    "for i in new_corpus:\n",
    "    y = glove_m[i]\n",
    "    vectors.append(y)\n",
    "\n",
    "\n"
   ]
  },
  {
   "cell_type": "code",
   "execution_count": 67,
   "metadata": {
    "colab": {
     "base_uri": "https://localhost:8080/"
    },
    "id": "VEps4F3nvgvm",
    "outputId": "aba56ab0-942b-4d8d-e67d-38c184d0298c"
   },
   "outputs": [
    {
     "data": {
      "text/plain": [
       "[array([-0.45816 ,  0.18518 ,  0.35274 ,  0.46199 ,  0.1666  ,  0.22531 ,\n",
       "        -0.94667 ,  0.072191, -0.020073,  0.22138 ,  0.022843, -0.7057  ,\n",
       "        -0.68059 ,  0.6923  , -0.41883 , -0.68109 ,  0.35849 , -0.56264 ,\n",
       "        -0.68847 , -0.073729,  0.070436, -0.17436 , -0.38994 ,  0.090127,\n",
       "        -0.30945 , -1.554   , -0.13894 , -0.80492 , -0.73123 ,  0.63291 ,\n",
       "         3.208   ,  0.041802,  0.41536 , -0.26637 ,  0.038696, -0.25567 ,\n",
       "        -0.44192 ,  0.50113 ,  0.11523 ,  0.10027 , -0.30422 ,  0.3274  ,\n",
       "        -0.17812 ,  0.10018 ,  0.59222 ,  0.29602 , -0.54511 ,  0.24227 ,\n",
       "         0.37948 , -0.41335 ], dtype=float32),\n",
       " array([-1.163   , -0.13688 , -0.83546 , -0.85329 , -0.39908 ,  0.35    ,\n",
       "        -0.064561, -1.3242  , -0.1079  ,  0.42883 , -0.25933 ,  0.04346 ,\n",
       "        -0.10668 ,  0.44067 ,  0.23598 , -0.53208 , -0.65907 ,  0.23817 ,\n",
       "         0.33575 ,  0.64787 ,  0.63219 , -0.41558 , -0.38247 ,  0.30521 ,\n",
       "         0.63    , -1.2265  , -1.0514  , -0.32805 , -0.41857 , -0.09036 ,\n",
       "         1.2391  , -0.96863 , -0.04455 , -0.30052 , -0.2272  ,  0.22708 ,\n",
       "        -0.09306 ,  0.71639 ,  0.024921,  0.1127  ,  0.15915 , -0.50284 ,\n",
       "         0.1081  ,  0.96896 ,  0.41774 ,  0.2907  ,  1.3496  ,  1.5147  ,\n",
       "         0.19686 ,  0.065728], dtype=float32),\n",
       " array([ 0.01613 ,  0.26031 , -0.14231 , -0.074645,  0.68735 ,  0.36594 ,\n",
       "         0.74454 , -0.61169 , -0.23214 ,  0.046665,  0.29426 ,  0.41541 ,\n",
       "        -0.3583  ,  0.16749 , -0.16464 ,  0.52176 ,  0.72181 , -0.68843 ,\n",
       "         1.0023  , -0.47914 , -0.37106 , -0.41909 , -0.1042  ,  0.78343 ,\n",
       "         0.26194 , -0.68866 , -0.89465 , -0.55634 ,  0.66829 , -0.21108 ,\n",
       "         2.0861  , -0.051663, -1.0365  , -1.2578  , -0.051301, -0.43001 ,\n",
       "        -0.23375 , -0.023868, -0.67938 ,  0.13853 , -0.099492, -0.50498 ,\n",
       "         0.36411 ,  0.59756 , -0.92868 ,  0.10514 ,  0.88954 ,  0.1709  ,\n",
       "         0.037233,  0.62366 ], dtype=float32),\n",
       " array([-0.49284 ,  0.3731  ,  0.15565 ,  0.70044 ,  0.77405 , -0.48151 ,\n",
       "        -1.2244  , -0.02163 ,  0.63856 , -0.49535 ,  0.35081 , -0.29986 ,\n",
       "        -0.89631 ,  0.17606 , -0.49078 , -0.36775 ,  1.0308  ,  0.12271 ,\n",
       "        -1.7308  , -0.61148 , -0.3035  , -0.19532 ,  0.17095 , -0.6249  ,\n",
       "        -0.030165, -1.0511  ,  0.19154 , -0.16093 ,  0.35696 , -0.4017  ,\n",
       "         2.9194  ,  0.046222, -0.40594 , -1.0688  ,  0.13752 ,  0.60408 ,\n",
       "        -0.22031 ,  1.2583  ,  0.54187 ,  0.74807 ,  0.01358 , -0.10952 ,\n",
       "        -0.78435 ,  0.69711 , -0.39348 , -0.184   ,  0.65022 ,  0.1018  ,\n",
       "        -0.77246 , -0.026201], dtype=float32),\n",
       " array([ 0.7196   ,  0.71446  , -0.51931  , -0.7443   , -0.06024  ,\n",
       "         0.54708  , -0.54618  , -0.99133  ,  0.73429  ,  0.18832  ,\n",
       "         0.32969  , -0.27397  ,  0.28741  , -0.09161  ,  0.32494  ,\n",
       "        -0.017665 , -0.13707  , -0.17801  , -0.24557  ,  0.11867  ,\n",
       "         0.34275  ,  0.3795   ,  0.42772  , -0.26742  ,  0.37385  ,\n",
       "        -1.2254   , -0.77036  , -0.70446  , -1.175    ,  0.14247  ,\n",
       "         3.0784   , -0.39591  , -0.30366  , -1.7702   , -0.0043639,\n",
       "        -0.46792  , -0.08895  ,  0.89358  ,  0.88059  ,  0.22266  ,\n",
       "        -0.53512  , -0.49875  ,  0.61852  ,  0.69546  ,  0.39189  ,\n",
       "         0.053596 ,  0.81017  ,  0.87904  , -0.37766  ,  0.46718  ],\n",
       "       dtype=float32),\n",
       " array([ 3.2652e-01, -3.8703e-01, -1.1870e-01, -5.2978e-02,  1.1077e+00,\n",
       "         1.1281e-01, -1.9860e-02, -8.7859e-01, -2.5030e-01,  9.7285e-01,\n",
       "         2.9062e-02,  4.6865e-01,  7.3435e-01,  8.0862e-01, -7.6984e-01,\n",
       "        -2.8702e-01,  5.0242e-01,  1.2320e+00,  7.6790e-03, -5.4675e-01,\n",
       "        -5.8729e-01,  1.0526e+00, -5.1374e-01,  5.0223e-01,  1.5093e+00,\n",
       "        -9.6293e-01, -1.7608e-01, -3.4531e-01,  2.5204e-01,  1.6417e-03,\n",
       "         1.8049e+00, -5.1428e-01, -6.0374e-02, -1.3359e+00,  1.6530e-01,\n",
       "         4.0296e-02, -1.5719e-01,  7.2880e-01, -9.0192e-01, -8.3006e-01,\n",
       "         4.7668e-01, -2.6525e-01,  1.1745e-01,  1.1430e+00,  6.1311e-01,\n",
       "         9.1142e-03,  2.3983e-01,  1.7112e-01,  4.9750e-01,  1.2961e+00],\n",
       "       dtype=float32),\n",
       " array([ 0.23853  ,  0.34888  , -0.070754 ,  0.51504  ,  0.5131   ,\n",
       "         0.42343  , -1.1919   ,  0.26376  , -0.09416  ,  0.1011   ,\n",
       "         0.76111  ,  1.4923   , -0.62591  ,  0.60826  ,  0.9628   ,\n",
       "        -0.19744  , -0.0060854,  0.093855 , -0.72661  ,  0.4974   ,\n",
       "        -0.062529 , -0.17389  ,  0.28972  ,  0.17226  , -1.1867   ,\n",
       "        -1.91     ,  0.82252  , -0.18686  ,  0.99239  , -0.39834  ,\n",
       "         1.4947   , -0.67557  , -0.1639   , -1.2718   ,  0.50128  ,\n",
       "         0.66792  , -0.12247  ,  0.031126 ,  0.66547  , -0.0023936,\n",
       "         0.46832  ,  0.76954  , -0.056833 ,  0.10092  ,  0.4024   ,\n",
       "        -0.9273   , -0.11136  ,  0.83062  , -0.23929  ,  1.1943   ],\n",
       "       dtype=float32),\n",
       " array([ 0.33811  , -0.23768  ,  0.77132  ,  0.20897  , -0.96102  ,\n",
       "         0.21753  ,  0.069671 , -0.79317  ,  0.35003  , -0.18187  ,\n",
       "         0.80426  ,  0.6604   ,  0.0062125,  0.4198   , -0.83985  ,\n",
       "         0.39408  , -0.57603  ,  0.69031  ,  0.26979  , -0.26878  ,\n",
       "        -0.11203  , -0.85813  , -0.82293  , -0.01665  ,  0.10325  ,\n",
       "        -1.8031   , -0.1156   , -0.26856  ,  0.31724  ,  0.17981  ,\n",
       "         4.0673   , -0.36699  , -0.42908  , -1.0838   , -0.20061  ,\n",
       "         0.49008  ,  0.46461  , -0.12059  ,  0.23733  , -0.097047 ,\n",
       "         0.01566  , -0.37673  ,  0.065233 ,  1.0646   , -1.0214   ,\n",
       "         0.30089  ,  0.33471  ,  0.23508  ,  0.40676  ,  0.11479  ],\n",
       "       dtype=float32),\n",
       " array([-0.077805 , -0.49623  , -0.23207  , -0.19861  ,  0.97947  ,\n",
       "         0.1531   ,  1.2104   ,  0.30943  ,  0.56296  ,  0.1916   ,\n",
       "         0.61563  ,  0.27689  ,  0.17697  ,  0.33452  , -0.27831  ,\n",
       "         0.70091  ,  0.18828  ,  0.18295  ,  0.57955  ,  0.27353  ,\n",
       "        -0.26268  ,  0.017151 , -0.29175  ,  0.64148  ,  1.0482   ,\n",
       "        -1.0513   , -0.1991   ,  0.35375  ,  0.21724  ,  0.043054 ,\n",
       "        -0.37693  ,  0.49372  ,  0.67914  , -1.301    , -1.2944   ,\n",
       "        -0.2483   , -0.56394  , -0.23974  , -0.33248  , -0.24294  ,\n",
       "         0.1828   ,  0.03777  , -0.23088  ,  0.69045  , -0.0038037,\n",
       "         0.048043 ,  0.36767  ,  0.67762  ,  0.20286  ,  0.32963  ],\n",
       "       dtype=float32),\n",
       " array([ 0.24989 ,  0.21958 , -0.44505 ,  0.58602 , -0.010814, -0.39337 ,\n",
       "        -0.12406 , -1.1307  ,  0.43009 , -0.050078,  0.72717 ,  0.37415 ,\n",
       "         0.51648 ,  0.55305 , -0.014879,  0.8714  ,  1.1501  ,  0.30417 ,\n",
       "         0.62127 , -0.42837 , -0.021624,  0.58691 , -0.36424 , -0.20318 ,\n",
       "         0.87405 , -0.33359 ,  0.3524  ,  0.086728,  0.18502 ,  1.364   ,\n",
       "         3.3352  , -0.064015, -0.10601 , -1.8814  , -0.9336  ,  0.31382 ,\n",
       "        -0.39991 ,  0.45189 ,  0.31445 , -0.075881, -0.55053 , -0.090056,\n",
       "         0.8603  , -0.026639,  0.2439  ,  0.30208 , -0.44115 , -0.036279,\n",
       "         1.1414  ,  0.7708  ], dtype=float32),\n",
       " array([ 0.62257 ,  0.071858,  0.024343, -0.12574 ,  0.31062 , -0.2258  ,\n",
       "        -0.34277 ,  0.50858 , -0.13264 , -0.068181, -0.21331 ,  0.27151 ,\n",
       "        -0.44914 ,  0.076563,  0.54888 ,  0.58235 ,  0.46806 , -0.3486  ,\n",
       "        -0.14855 , -0.81118 ,  0.26717 ,  0.24443 ,  0.016739,  0.04569 ,\n",
       "         0.23783 , -1.9723  , -0.067601, -0.50336 ,  0.21409 , -0.48434 ,\n",
       "         3.5853  ,  1.1371  , -1.1428  , -0.058785,  0.2457  , -0.16272 ,\n",
       "         0.17293 ,  0.18225 ,  0.0188  , -0.52325 , -0.34459 ,  0.035117,\n",
       "         0.27834 ,  0.18419 ,  0.23106 ,  0.13612 ,  0.021502,  0.18111 ,\n",
       "         0.038953,  0.23854 ], dtype=float32),\n",
       " array([ 2.4196e-01, -7.4387e-01, -5.1436e-01, -8.9699e-02, -2.6825e-01,\n",
       "         4.5664e-01,  7.2555e-01, -2.1819e-01,  4.2826e-02,  1.8943e-01,\n",
       "        -3.2057e-01,  5.7118e-02, -5.9674e-01,  2.2751e-01,  1.2945e-01,\n",
       "        -2.9623e-01,  6.4950e-01, -2.2105e-01, -5.7708e-01, -4.5436e-01,\n",
       "         2.5636e-01,  9.9275e-02, -1.1760e-01, -1.6338e-01, -2.3526e-01,\n",
       "        -1.8493e+00, -1.0322e-01, -3.5198e-01,  2.4535e-03,  3.3223e-02,\n",
       "         3.3513e+00,  1.5836e-01, -1.0583e+00, -7.2565e-01, -5.7345e-01,\n",
       "        -5.7453e-02,  4.7996e-01, -9.9358e-01, -8.0074e-01, -6.2818e-01,\n",
       "        -2.2644e-01,  1.4946e-01, -3.2743e-02, -3.3740e-01,  2.0041e-01,\n",
       "        -2.3766e-03,  1.2109e-02,  5.5461e-01,  1.5185e-01,  7.0218e-01],\n",
       "       dtype=float32),\n",
       " array([ 0.61469 , -0.028469,  0.75878 , -0.20824 ,  0.54709 , -0.06555 ,\n",
       "         0.53689 ,  0.11607 ,  1.3036  ,  0.78401 ,  0.33611 ,  0.43957 ,\n",
       "        -0.024412, -0.37798 , -0.7509  ,  0.28176 ,  0.85573 , -0.27492 ,\n",
       "         0.56813 , -1.5181  ,  0.66132 , -0.48025 , -0.50449 , -0.63787 ,\n",
       "         0.10923 ,  0.25001 , -0.69957 , -0.80868 ,  1.1182  ,  0.21553 ,\n",
       "         1.4609  ,  1.8293  , -0.32637 , -0.73046 ,  0.13619 ,  0.23007 ,\n",
       "        -0.37806 ,  0.28963 , -0.034234, -0.3183  ,  0.010886, -0.50822 ,\n",
       "        -0.37281 ,  0.17571 , -0.55769 , -0.81722 ,  0.31428 ,  0.34755 ,\n",
       "         0.63583 ,  0.71701 ], dtype=float32),\n",
       " array([ 0.20291 ,  0.18563 ,  0.28683 , -0.1999  ,  0.82266 , -0.1036  ,\n",
       "        -0.52124 ,  1.1258  ,  0.16914 ,  0.70616 , -0.11666 , -0.087966,\n",
       "        -0.65555 ,  0.12769 ,  0.57949 ,  0.16548 ,  1.1873  , -0.86613 ,\n",
       "        -0.58879 , -0.54778 , -0.47461 ,  0.18641 ,  0.040801, -0.10423 ,\n",
       "         0.67003 , -1.6063  ,  0.028459, -0.3755  ,  0.47073 , -0.60903 ,\n",
       "         2.8377  ,  1.236   , -0.8572  , -0.18284 ,  0.19663 , -0.15048 ,\n",
       "         0.051983,  0.91864 ,  0.13361 , -1.1994  , -0.25596 , -0.081271,\n",
       "        -0.18416 ,  0.23486 , -0.31326 ,  0.29756 ,  0.18222 ,  0.075321,\n",
       "         0.0563  ,  0.022005], dtype=float32),\n",
       " array([-0.32459 ,  0.80565 ,  0.048718, -0.76245 ,  0.50082 ,  0.13083 ,\n",
       "         0.68118 , -0.15682 ,  0.76843 ,  1.02    ,  0.24175 , -0.58747 ,\n",
       "        -0.80234 , -0.43723 , -0.63859 , -0.084795,  1.2304  , -0.073542,\n",
       "         0.50898 ,  0.086312,  0.075833,  0.27765 , -0.20123 , -0.66181 ,\n",
       "         0.72631 , -0.069469, -0.23793 , -0.73651 ,  0.52365 ,  0.72201 ,\n",
       "         2.5177  ,  0.89682 , -0.59489 , -0.49788 ,  0.52822 , -0.52915 ,\n",
       "        -0.054093,  0.70014 , -0.85207 , -0.52355 , -0.80417 , -1.5948  ,\n",
       "         0.17491 , -0.6895  , -0.88059 , -0.39766 ,  0.56696 ,  0.93827 ,\n",
       "         0.23659 ,  0.094927], dtype=float32),\n",
       " array([-0.23687  ,  0.0072381,  0.1696   , -0.55298  ,  1.006    ,\n",
       "        -0.20333  , -0.85175  ,  0.080105 ,  0.18977  ,  0.80851  ,\n",
       "         0.17518  , -0.11945  , -1.562    ,  0.18401  , -0.2861   ,\n",
       "        -0.98531  ,  1.6371   , -1.5494   , -1.3664   ,  0.36133  ,\n",
       "        -0.73853  , -0.28186  , -0.5527   , -0.51021  ,  0.29676  ,\n",
       "        -1.1254   ,  1.1656   , -0.34526  ,  0.24965  , -0.73933  ,\n",
       "         2.9157   ,  1.4848   , -0.55925  , -0.36052  , -0.43891  ,\n",
       "         0.40543  ,  0.19971  ,  1.3696   ,  0.28704  , -0.21166  ,\n",
       "         0.51169  , -0.13409  , -0.4521   , -0.68954  , -1.0732   ,\n",
       "         0.54302  ,  0.62663  ,  0.60206  ,  0.55444  , -0.31032  ],\n",
       "       dtype=float32),\n",
       " array([-0.14042 ,  0.60235 , -0.5062  ,  0.29788 , -0.59072 ,  0.26872 ,\n",
       "        -1.3395  , -0.84819 , -0.56342 ,  1.0069  , -0.16328 , -0.28175 ,\n",
       "         0.522   ,  0.45554 ,  0.28001 , -0.32957 , -0.091662,  0.49949 ,\n",
       "        -0.14767 , -0.17506 ,  0.05676 , -0.063781, -0.13271 ,  1.2491  ,\n",
       "         0.24836 , -1.2152  , -1.3403  , -0.17845 , -0.085122,  0.50874 ,\n",
       "         3.1133  , -0.016007, -0.1532  , -0.11221 , -0.060053,  0.079335,\n",
       "        -0.38122 ,  0.15287 , -1.2032  , -0.19373 ,  0.061746,  0.65986 ,\n",
       "        -0.72096 ,  0.048026,  0.40668 ,  0.19201 , -0.85027 , -0.47131 ,\n",
       "         0.64034 , -0.16869 ], dtype=float32),\n",
       " array([ 0.76814 ,  0.22302 ,  0.64956 , -0.23555 ,  0.75171 ,  0.53802 ,\n",
       "        -0.46561 , -0.52309 ,  0.36925 ,  0.14399 , -0.33872 ,  0.34375 ,\n",
       "         0.094007, -0.74963 ,  1.1223  , -0.37267 , -0.43095 , -0.79271 ,\n",
       "         0.44159 ,  0.045458,  0.77383 , -0.18757 ,  0.25692 , -0.18271 ,\n",
       "         0.28322 , -0.93776 , -0.77427 , -0.35637 ,  0.26031 ,  0.33787 ,\n",
       "         2.8765  , -0.34323 ,  0.63947 , -0.33904 , -0.041548, -0.21225 ,\n",
       "        -0.57153 ,  0.12782 , -0.16116 , -0.30137 ,  0.18233 , -0.19087 ,\n",
       "         0.54923 ,  0.2794  , -0.88339 , -0.72199 , -0.028985,  0.89696 ,\n",
       "         0.33304 , -0.14591 ], dtype=float32),\n",
       " array([-0.18178 ,  0.66246 , -0.2951  , -0.73261 ,  0.17801 ,  0.56337 ,\n",
       "        -0.020628, -0.4084  , -0.53352 ,  0.35919 ,  0.10577 ,  0.58354 ,\n",
       "         0.21646 ,  0.011561,  0.34153 ,  0.32682 , -0.18441 , -0.35476 ,\n",
       "         0.34563 ,  0.30717 , -0.015002, -0.88487 , -0.11382 , -0.27814 ,\n",
       "        -0.17978 , -1.749   , -0.03834 , -0.2977  ,  0.053816,  1.2546  ,\n",
       "         3.3495  , -0.34721 , -0.48521 , -0.42962 ,  0.42801 , -0.53578 ,\n",
       "        -0.29007 , -0.073953, -0.019319, -0.77498 , -1.0072  , -0.056476,\n",
       "        -0.38535 ,  0.38235 , -0.66475 , -0.51683 ,  0.30135 ,  0.6521  ,\n",
       "         0.48772 ,  0.53283 ], dtype=float32),\n",
       " array([ 0.71561  ,  0.70368  , -0.65484  ,  0.49875  , -0.85243  ,\n",
       "         1.1059   , -0.1036   , -0.88284  ,  0.80456  ,  0.71413  ,\n",
       "         0.86359  ,  0.32354  ,  0.7463   ,  0.37181  , -0.26063  ,\n",
       "         1.2076   ,  0.40428  ,  0.21659  , -0.25025  , -0.24093  ,\n",
       "        -0.34624  ,  0.12634  , -0.0029545, -0.79917  ,  0.44265  ,\n",
       "        -0.2539   , -0.010407 ,  0.61187  ,  0.83014  , -0.24339  ,\n",
       "         2.3077   , -0.18824  , -0.41651  , -0.41467  , -0.2552   ,\n",
       "         0.58636  ,  0.41376  ,  0.86748  ,  0.1625   ,  0.11349  ,\n",
       "        -0.063252 , -0.3975   , -0.012897 ,  1.1077   ,  0.30005  ,\n",
       "         0.085916 ,  0.3641   , -0.22241  , -0.23201  , -0.6379   ],\n",
       "       dtype=float32),\n",
       " array([ 0.8782   , -0.45171  ,  0.96737  ,  0.040347 ,  0.76235  ,\n",
       "        -0.63825  ,  0.18944  , -0.26633  ,  0.58874  , -0.93608  ,\n",
       "        -0.065201 ,  0.5123   , -0.69111  ,  0.52807  , -0.71195  ,\n",
       "        -0.2834   , -0.34591  ,  0.014351 ,  0.11763  ,  0.59407  ,\n",
       "         0.20703  ,  0.69087  ,  1.0855   , -0.83158  , -0.35967  ,\n",
       "        -2.3939   , -0.88375  , -0.417    , -0.36717  ,  0.58897  ,\n",
       "         2.4132   , -0.74281  , -0.3619   , -1.9934   ,  0.093133 ,\n",
       "         0.86592  , -0.75185  ,  0.19073  , -0.54284  , -0.0084839,\n",
       "         0.57554  ,  0.4475   ,  0.48515  ,  0.054866 ,  0.35842  ,\n",
       "        -0.51698  , -0.026014 ,  1.9907   , -0.11378  ,  0.30127  ],\n",
       "       dtype=float32),\n",
       " array([ 0.51151  ,  0.15085  , -0.39786  , -0.31071  ,  0.33237  ,\n",
       "         0.3394   ,  0.011493 , -0.11517  , -0.69371  ,  0.21185  ,\n",
       "        -0.023834 ,  0.43558  ,  0.10085  ,  0.0057148,  0.30705  ,\n",
       "         0.13609  ,  0.10353  , -0.17286  ,  0.42615  , -0.63569  ,\n",
       "        -0.36039  ,  0.21011  ,  0.42375  ,  0.43341  ,  0.79148  ,\n",
       "        -1.0979   , -1.3531   , -0.21539  ,  0.382    , -0.0073385,\n",
       "         2.183    , -0.73971  , -0.25151  , -1.3629   , -0.063635 ,\n",
       "        -0.073554 , -0.27605  , -0.10171  , -0.45693  ,  0.3458   ,\n",
       "         0.16561  ,  0.081043 ,  0.049777 ,  0.78955  ,  0.51735  ,\n",
       "        -0.29233  ,  0.2971   ,  0.57436  , -0.18903  ,  0.27146  ],\n",
       "       dtype=float32),\n",
       " array([-0.34165  , -0.81267  ,  1.4513   ,  0.05914  , -0.080801 ,\n",
       "         0.39567  ,  0.10064  , -0.5468   , -0.18887  ,  0.11364  ,\n",
       "        -0.040956 , -0.5637   , -0.32191  ,  0.15968  , -0.59756  ,\n",
       "        -0.14571  , -0.77074  ,  1.2955   , -0.72002  , -0.90818  ,\n",
       "         0.76644  ,  0.05346  , -0.0031632, -0.15341  ,  0.22065  ,\n",
       "        -1.191    , -1.0775   , -0.29768  ,  1.327    , -0.51359  ,\n",
       "         2.6229   , -0.67411  , -0.82558  ,  0.14283  , -0.014214 ,\n",
       "         0.90775  ,  0.66828  ,  0.48431  ,  0.1543   ,  0.26044  ,\n",
       "         1.0191   ,  0.015872 , -0.75325  ,  0.58992  ,  0.4546   ,\n",
       "        -0.19678  ,  0.42138  , -0.43168  ,  0.11985  ,  0.14094  ],\n",
       "       dtype=float32),\n",
       " array([ 0.72959  , -0.51739  , -0.39741  , -0.28476  ,  0.11282  ,\n",
       "         0.37047  ,  0.45281  , -0.75123  , -0.066433 ,  1.2033   ,\n",
       "         0.6806   ,  0.66377  ,  0.47789  ,  0.46387  , -0.41869  ,\n",
       "         0.66079  ,  0.0028315, -0.22235  , -0.058834 , -0.87061  ,\n",
       "        -0.37748  , -0.15509  ,  0.14345  , -0.13621  ,  0.22205  ,\n",
       "        -0.057193 , -0.57583  , -0.1064   ,  0.24844  , -0.59704  ,\n",
       "         1.0601   ,  0.2101   ,  0.10081  , -1.0142   ,  0.075487 ,\n",
       "         0.11536  , -0.094891 , -0.10499  , -0.227    , -0.40658  ,\n",
       "        -0.19804  , -0.22415  ,  0.064446 ,  0.49817  ,  1.1068   ,\n",
       "        -0.19523  ,  0.94457  , -0.50471  ,  0.11978  ,  0.44507  ],\n",
       "       dtype=float32),\n",
       " array([ 0.46449 ,  0.070091, -0.28368 , -0.18812 , -0.43049 ,  1.1469  ,\n",
       "         1.2461  , -1.1882  , -0.31175 ,  0.7683  ,  1.0454  ,  0.095332,\n",
       "        -0.22781 , -0.74337 , -0.4866  , -0.12335 , -0.77705 ,  0.45556 ,\n",
       "         0.39162 , -0.29489 , -0.73266 ,  0.52838 , -0.26575 , -0.62023 ,\n",
       "         1.0782  ,  0.26256 , -0.62297 , -1.2645  , -0.59543 ,  0.54933 ,\n",
       "         2.0055  ,  0.21783 ,  0.35651 , -2.7495  ,  0.20978 ,  0.50393 ,\n",
       "        -0.22696 ,  0.28763 ,  1.2632  ,  0.61941 , -0.49274 , -0.38863 ,\n",
       "        -0.39409 ,  1.2075  ,  0.21141 , -0.092095,  1.8933  ,  1.0429  ,\n",
       "        -0.060496,  0.89706 ], dtype=float32),\n",
       " array([ 1.1364  ,  0.32398 , -0.10918 ,  0.2742  ,  1.3334  ,  0.2754  ,\n",
       "         1.521   , -0.45579 ,  0.40929 ,  0.012497,  1.2748  ,  0.49354 ,\n",
       "        -0.199   ,  0.074395, -0.16995 ,  0.59628 , -0.27324 , -0.12143 ,\n",
       "         0.57728 , -0.67094 , -0.11764 , -0.99556 ,  0.12686 ,  0.49884 ,\n",
       "         0.16235 , -0.14154 , -0.51495 , -0.18251 ,  0.23178 ,  0.36062 ,\n",
       "         3.236   ,  0.13446 , -0.13822 , -1.492   , -0.054637,  0.18897 ,\n",
       "         1.0298  ,  0.35073 ,  0.19295 ,  0.8845  ,  0.30361 , -0.45686 ,\n",
       "        -1.1892  ,  1.0468  , -0.85233 , -0.22728 ,  0.66999 , -0.086407,\n",
       "         0.43335 ,  0.59052 ], dtype=float32),\n",
       " array([ 0.61854 ,  0.11915 , -0.46786 ,  0.31368 ,  1.0334  ,  0.95964 ,\n",
       "         0.87803 , -1.0346  ,  1.6322  ,  0.29347 ,  0.80844 , -0.058903,\n",
       "         0.021251,  0.40986 ,  0.54443 , -0.33311 ,  0.53712 , -0.35823 ,\n",
       "         0.29374 ,  0.090151, -0.92049 ,  0.69386 ,  0.39098 , -0.64392 ,\n",
       "         0.77831 , -1.7215  , -0.48393 , -0.50327 , -0.22508 ,  0.099192,\n",
       "         3.2095  , -0.31554 , -0.71754 , -1.6752  , -1.3537  ,  0.15195 ,\n",
       "         0.054557, -0.1633  , -0.027993,  0.3917  , -0.55007 , -0.079205,\n",
       "         0.63389 ,  0.51446 ,  0.70124 ,  0.27638 , -0.53445 ,  0.064808,\n",
       "        -0.21974 , -0.52048 ], dtype=float32),\n",
       " array([-0.70802  ,  0.77586  , -0.51439  ,  0.033828 ,  0.82709  ,\n",
       "        -0.27668  , -0.53744  , -0.44755  , -0.079965 , -0.49125  ,\n",
       "         0.62653  ,  0.92733  , -0.34039  ,  0.16951  ,  0.12961  ,\n",
       "        -0.18008  , -0.052003 ,  0.53588  ,  0.41441  ,  0.49673  ,\n",
       "         0.38628  ,  0.61309  ,  0.40253  ,  0.13901  , -0.84314  ,\n",
       "        -1.4718   ,  0.20783  , -1.0841   , -1.4181   ,  0.24965  ,\n",
       "         1.4833   , -0.61193  , -0.11137  , -1.5708   ,  0.037104 ,\n",
       "        -0.15698  , -0.54125  ,  0.69582  ,  1.0479   ,  0.0071109,\n",
       "        -0.034171 ,  0.3682   , -0.0060151,  0.29305  , -0.0020797,\n",
       "        -0.35165  , -0.30233  , -0.041174 , -0.61581  ,  1.173    ],\n",
       "       dtype=float32),\n",
       " array([ 0.61854 ,  0.11915 , -0.46786 ,  0.31368 ,  1.0334  ,  0.95964 ,\n",
       "         0.87803 , -1.0346  ,  1.6322  ,  0.29347 ,  0.80844 , -0.058903,\n",
       "         0.021251,  0.40986 ,  0.54443 , -0.33311 ,  0.53712 , -0.35823 ,\n",
       "         0.29374 ,  0.090151, -0.92049 ,  0.69386 ,  0.39098 , -0.64392 ,\n",
       "         0.77831 , -1.7215  , -0.48393 , -0.50327 , -0.22508 ,  0.099192,\n",
       "         3.2095  , -0.31554 , -0.71754 , -1.6752  , -1.3537  ,  0.15195 ,\n",
       "         0.054557, -0.1633  , -0.027993,  0.3917  , -0.55007 , -0.079205,\n",
       "         0.63389 ,  0.51446 ,  0.70124 ,  0.27638 , -0.53445 ,  0.064808,\n",
       "        -0.21974 , -0.52048 ], dtype=float32),\n",
       " array([ 0.12736 ,  0.25601 , -0.23177 , -0.48479 ,  0.75119 ,  0.056632,\n",
       "        -0.11353 ,  0.017199, -0.18804 ,  0.58092 , -0.075802,  0.69718 ,\n",
       "        -0.90388 ,  0.36724 ,  0.48317 ,  0.30677 ,  0.27291 ,  0.073619,\n",
       "         0.08733 , -0.43091 , -0.17529 ,  0.97376 ,  0.37287 ,  0.097753,\n",
       "         1.1566  , -1.5373  , -0.82229 ,  0.24963 ,  0.9547  , -0.40511 ,\n",
       "         2.5696  ,  0.13315 , -0.43978 , -0.89625 , -0.36645 ,  0.054338,\n",
       "        -0.27892 ,  0.32988 ,  0.2132  , -0.47943 , -0.086666, -0.19604 ,\n",
       "        -0.32741 ,  0.65713 , -0.099649,  0.29358 ,  0.56006 , -0.30425 ,\n",
       "        -0.082771,  0.24289 ], dtype=float32),\n",
       " array([ 0.20461 ,  0.48659 , -0.55308 , -0.27019 ,  0.26336 ,  0.15751 ,\n",
       "        -0.28994 , -0.51824 ,  0.051829,  0.36225 ,  0.37077 ,  0.1322  ,\n",
       "        -0.061377, -0.53606 , -0.34733 , -0.043981, -0.086744,  0.78305 ,\n",
       "         0.41422 ,  0.027996,  0.23433 ,  0.98844 , -0.41049 ,  0.6206  ,\n",
       "         1.3966  , -0.65427 , -0.18221 , -1.0293  , -0.014741, -0.25384 ,\n",
       "         3.227   ,  0.39509 , -0.33042 , -1.229   ,  0.29048 ,  0.33654 ,\n",
       "        -0.24817 ,  0.47105 ,  0.32964 ,  0.23997 ,  0.088302, -0.91779 ,\n",
       "        -0.36671 ,  0.9926  ,  0.2185  , -0.316   ,  1.203   ,  0.2699  ,\n",
       "        -0.14093 ,  0.70785 ], dtype=float32),\n",
       " array([ 0.75068 ,  0.053127,  0.054627,  0.072503, -0.12021 ,  0.82717 ,\n",
       "         0.19641 , -0.31173 ,  0.36422 , -0.33243 ,  0.25289 ,  0.34691 ,\n",
       "        -0.96921 , -0.26156 ,  0.95127 ,  0.61605 ,  0.36543 ,  0.19097 ,\n",
       "         0.55571 , -0.484   , -0.76125 , -0.26584 , -0.2207  ,  0.33209 ,\n",
       "         0.79446 , -1.8817  , -0.13826 ,  0.34505 ,  0.79296 ,  0.48838 ,\n",
       "         3.2986  ,  0.17404 , -0.072425, -0.88681 , -0.31277 ,  0.30916 ,\n",
       "        -0.32531 ,  0.10031 ,  0.69906 ,  0.22572 , -0.58385 ,  0.36805 ,\n",
       "         0.063336,  0.88716 ,  0.25599 ,  0.15023 ,  0.54539 ,  0.97436 ,\n",
       "         0.27401 ,  0.10775 ], dtype=float32),\n",
       " array([ 0.83334  ,  0.060155 , -0.30612  ,  0.31962  ,  0.57138  ,\n",
       "         0.77526  ,  1.1508   , -0.30785  ,  0.0085042,  0.050312 ,\n",
       "        -0.29006  ,  0.029528 , -1.0774   ,  0.2134   ,  0.47146  ,\n",
       "        -0.2844   ,  1.0674   ,  0.80246  ,  1.164    , -0.015791 ,\n",
       "         0.22739  ,  0.23487  , -0.31913  ,  0.6007   ,  1.2315   ,\n",
       "        -0.586    ,  0.38347  , -0.4982   ,  0.40004  ,  0.28455  ,\n",
       "         2.1547   ,  0.03362  , -0.63163  , -0.91486  ,  0.14451  ,\n",
       "         0.4907   , -1.1781   ,  0.30112  ,  0.025706 ,  0.4662   ,\n",
       "        -0.45239  , -0.24091  ,  0.27486  ,  0.2424   , -0.045313 ,\n",
       "         0.13111  ,  1.5464   ,  1.7154   ,  0.1071   , -0.28173  ],\n",
       "       dtype=float32),\n",
       " array([ 4.3833e-01, -1.5784e-01, -1.2393e-01, -1.1901e-01,  1.4659e-01,\n",
       "         3.5156e-01, -4.5865e-01,  1.8337e-01, -6.3247e-01, -1.1755e-01,\n",
       "         5.9893e-01,  3.4600e-01, -4.6169e-01, -5.8537e-01,  4.1869e-01,\n",
       "         5.3485e-01, -5.6069e-02, -4.2462e-01, -4.5327e-01, -3.2637e-01,\n",
       "        -1.6922e-01, -3.1311e-01,  4.4623e-01, -1.3493e-01,  3.6838e-01,\n",
       "        -1.5683e+00, -3.0225e-01, -9.3721e-02, -4.8070e-02,  3.7704e-01,\n",
       "         3.4781e+00, -2.7603e-01,  6.4955e-02, -8.1474e-01,  1.9660e-01,\n",
       "        -2.9855e-01,  3.1998e-01,  2.4164e-01, -5.1280e-01, -1.0399e-01,\n",
       "        -1.1611e-01,  2.5575e-02, -2.9849e-01, -3.3247e-03, -2.0456e-01,\n",
       "        -7.9099e-02, -3.8462e-01,  1.2374e-01,  1.4642e-01, -1.5032e-01],\n",
       "       dtype=float32),\n",
       " array([-0.41416 ,  0.36705 , -0.11499 ,  0.11001 ,  0.32885 ,  0.57592 ,\n",
       "         0.71364 , -1.6001  ,  0.28355 ,  0.54115 ,  0.56971 ,  0.018958,\n",
       "         0.11945 ,  0.15792 ,  0.2878  ,  0.9605  , -0.3873  , -0.20536 ,\n",
       "         0.47811 , -0.18379 , -0.12447 ,  0.11451 , -0.083089,  0.72476 ,\n",
       "         0.081763, -0.76796 , -0.68803 ,  0.18385 ,  0.59333 ,  0.28077 ,\n",
       "         2.5257  , -0.65894 , -0.39496 , -1.0783  ,  0.047267, -0.50776 ,\n",
       "         0.59847 , -0.35687 , -1.1816  , -0.24706 ,  0.51196 , -0.050561,\n",
       "         0.19139 ,  0.94273 , -1.418   ,  0.089661,  0.93746 ,  0.61681 ,\n",
       "        -0.14376 ,  0.66113 ], dtype=float32),\n",
       " array([ 0.22426  , -0.7414   , -0.23476  ,  0.04658  ,  0.02173  ,\n",
       "         0.61725  , -0.31005  ,  0.31925  , -0.75937  ,  0.18388  ,\n",
       "         0.0077406, -0.1278   , -0.26909  , -0.45236  ,  0.27808  ,\n",
       "         0.50401  ,  0.1127   , -0.89587  ,  0.5629   , -0.32498  ,\n",
       "         0.36629  ,  0.30937  , -0.070191 , -0.29065  , -0.26496  ,\n",
       "        -1.9891   ,  0.42419  ,  0.025204 , -1.0215   ,  0.10292  ,\n",
       "         2.0998   , -0.83131  , -1.2163   , -0.40155  , -0.090138 ,\n",
       "        -1.2048   ,  0.56457  , -0.27167  , -0.72691  , -0.19167  ,\n",
       "         0.14795  ,  0.13526  ,  0.096795 ,  0.066091 , -0.3705   ,\n",
       "         0.073678 , -1.2934   ,  1.2381   ,  0.033281 , -0.258    ],\n",
       "       dtype=float32),\n",
       " array([ 2.4920e-01,  3.7003e-01, -1.2283e-01,  9.3560e-01, -3.3465e-01,\n",
       "         1.0462e-01, -6.0417e-01,  2.5293e-01,  1.9677e-01, -2.0179e-01,\n",
       "        -1.7339e-01,  1.2523e-02, -9.4900e-01,  3.5561e-03, -9.7554e-02,\n",
       "        -4.2411e-01,  3.1734e-01, -2.2621e-01, -5.0354e-01, -4.0819e-02,\n",
       "         5.0298e-01, -9.5244e-01, -3.8308e-01, -1.9784e-01, -5.7981e-01,\n",
       "        -1.3302e+00, -5.3875e-01, -8.0585e-01, -9.6609e-02,  6.6551e-01,\n",
       "         3.8168e+00,  1.1813e-01,  6.3227e-01, -4.5213e-01,  2.5649e-01,\n",
       "         2.5151e-01, -2.0992e-01,  4.9896e-02, -1.8808e-01,  5.6178e-01,\n",
       "        -8.9350e-01,  1.9163e-01, -2.7082e-01, -3.4130e-01,  2.0608e-01,\n",
       "         2.7465e-01, -5.9125e-01,  6.0125e-01, -1.2151e-01,  1.5024e-01],\n",
       "       dtype=float32),\n",
       " array([-0.15915 ,  0.64368 ,  0.081401,  0.4025  ,  0.037806,  0.064515,\n",
       "        -0.62787 , -0.40838 ,  1.1116  , -0.12852 ,  0.56703 ,  0.10558 ,\n",
       "         0.030658,  0.011764,  0.12401 , -0.27049 , -0.066166,  0.07602 ,\n",
       "        -0.1004  ,  1.0429  ,  0.042428,  0.74411 ,  0.51307 , -0.23152 ,\n",
       "         0.8501  , -1.5137  , -0.35412 , -1.1809  , -1.5275  ,  0.31451 ,\n",
       "         1.2057  , -0.98208 ,  0.40158 , -1.709   , -0.71251 , -0.25582 ,\n",
       "        -0.6088  ,  0.92119 ,  1.4574  ,  0.13508 ,  0.31765 ,  0.39841 ,\n",
       "         0.42538 , -0.1663  ,  1.4806  , -0.4728  ,  0.42297 ,  0.18094 ,\n",
       "         0.041738,  0.97377 ], dtype=float32),\n",
       " array([ 0.37273 , -0.22075 , -0.062467,  0.93395 , -0.28101 ,  0.22111 ,\n",
       "        -0.11115 , -0.86538 ,  0.68432 ,  0.53435 ,  0.69102 ,  0.26005 ,\n",
       "         0.45476 , -0.34133 ,  0.27086 ,  0.47533 , -0.8382  , -0.1958  ,\n",
       "         0.91462 , -0.5674  ,  0.53617 , -0.24076 , -0.67439 ,  0.14251 ,\n",
       "         0.10007 , -0.95823 ,  0.48354 , -0.51522 , -0.31174 , -0.11449 ,\n",
       "         3.0137  , -1.1926  , -1.3195  , -0.95249 ,  0.11743 ,  0.039828,\n",
       "         0.58131 ,  0.42409 , -0.28125 , -0.76539 ,  0.98623 , -0.35605 ,\n",
       "        -0.11101 ,  0.84347 , -0.60349 , -0.22496 ,  0.75813 ,  0.75152 ,\n",
       "         0.44127 ,  0.093444], dtype=float32),\n",
       " array([ 5.0043e-01,  1.0744e+00, -5.3345e-01,  5.1726e-01, -5.2573e-01,\n",
       "         7.2551e-01, -5.4804e-01, -1.0002e+00,  2.5186e-01, -2.0440e-02,\n",
       "        -9.9209e-02,  4.5491e-01,  3.1681e-01, -1.8062e-01,  8.0035e-02,\n",
       "        -7.0226e-02,  1.3891e-01,  3.8706e-02,  1.6028e-01, -7.0699e-01,\n",
       "         4.7490e-01, -2.9997e-01,  7.7206e-02,  1.7271e-01, -7.3797e-01,\n",
       "        -6.2421e-01, -5.3528e-01, -6.1884e-01, -5.5645e-01, -2.7205e-01,\n",
       "         3.3732e+00,  3.8738e-02, -3.4675e-02, -5.4361e-01,  6.0452e-01,\n",
       "         5.0060e-01, -3.7576e-02, -1.6968e-01, -1.9054e-01,  3.3298e-01,\n",
       "        -1.8487e-02,  4.6841e-01,  2.3692e-01,  9.5917e-04,  6.1204e-01,\n",
       "         2.3172e-01, -3.0146e-01,  8.3964e-02, -4.1002e-01,  1.6558e-01],\n",
       "       dtype=float32),\n",
       " array([-3.0097e-01, -1.1429e-01,  6.6853e-01,  6.4321e-01, -1.4672e-01,\n",
       "        -1.8312e-02,  3.1759e-03, -3.6049e-01, -2.1488e-01,  3.1390e-01,\n",
       "         1.0819e+00, -6.4605e-01, -1.0957e-01, -1.0472e-01, -1.0134e+00,\n",
       "        -2.4284e-02, -6.0112e-01, -3.1167e-03, -7.8000e-01, -8.2632e-02,\n",
       "        -2.5979e-02, -1.7382e-01, -3.1434e-01, -3.6288e-01, -4.8828e-03,\n",
       "        -7.6511e-01,  4.4488e-01, -1.4067e+00, -2.2119e-01,  3.0238e-02,\n",
       "         3.2227e+00, -1.1966e-01,  1.3937e-01, -4.2278e-01,  7.5567e-01,\n",
       "        -1.6133e-01, -2.8605e-01,  1.6096e+00, -3.7266e-02, -6.6141e-01,\n",
       "         7.6708e-01, -8.3861e-01,  1.2993e+00,  5.0273e-03,  7.0487e-01,\n",
       "         2.4845e-01,  1.0509e+00,  1.4306e-01, -3.4708e-01,  2.3042e-01],\n",
       "       dtype=float32),\n",
       " array([ 1.4921  , -0.23995 ,  0.67629 ,  0.41949 ,  0.31803 , -0.61658 ,\n",
       "        -1.2291  ,  0.095177,  1.1922  , -0.37693 , -0.20628 ,  0.085418,\n",
       "        -0.18313 ,  0.37054 ,  0.087378, -0.24574 , -0.32308 , -0.41769 ,\n",
       "        -0.083368, -0.52043 ,  0.44245 ,  0.64979 , -0.1428  ,  0.37979 ,\n",
       "         0.34963 , -1.0562  , -0.36316 , -0.51145 ,  0.5626  , -0.11269 ,\n",
       "         2.7378  , -0.57908 , -0.89484 , -0.86246 ,  0.25385 ,  0.56726 ,\n",
       "        -0.56846 , -0.29951 , -0.15662 , -0.41541 ,  0.44716 , -0.25818 ,\n",
       "         0.34409 ,  0.31967 ,  0.30206 , -0.62861 ,  0.71302 ,  0.16478 ,\n",
       "         0.29604 , -0.31076 ], dtype=float32),\n",
       " array([ 1.3366  , -0.35721 ,  1.5216  , -0.2696  , -1.0596  ,  1.2287  ,\n",
       "        -0.37973 , -0.8326  ,  0.029337,  0.15797 ,  0.57915 ,  0.40389 ,\n",
       "        -0.88075 ,  0.059181, -0.54855 , -0.39724 , -1.0212  ,  2.0732  ,\n",
       "        -1.0787  , -2.3391  , -0.25227 , -0.68032 , -0.75201 , -0.023504,\n",
       "         1.0468  , -0.66523 ,  0.25198 ,  0.68515 ,  0.23088 ,  0.99966 ,\n",
       "         2.7578  , -0.54147 , -0.062624,  0.32856 ,  0.88622 , -0.01464 ,\n",
       "         0.85782 ,  0.13125 ,  0.33521 , -0.093038,  0.80111 , -0.8053  ,\n",
       "        -0.45437 , -0.18011 , -0.11299 ,  1.0075  ,  0.69389 ,  0.068297,\n",
       "         0.50943 ,  0.085815], dtype=float32),\n",
       " array([ 9.6900e-01, -6.1799e-01,  1.6561e+00,  1.4079e+00, -6.3774e-02,\n",
       "        -4.5934e-01, -1.0961e+00, -1.2889e+00,  5.1762e-01,  4.8351e-01,\n",
       "         5.5815e-03,  2.7758e-01, -6.3178e-01, -4.1388e-01,  4.1559e-01,\n",
       "         2.7384e-01, -9.0019e-01, -4.8922e-01,  3.8597e-01, -8.1652e-01,\n",
       "         5.9012e-01, -4.1399e-01, -2.7623e-01,  3.2718e-01,  5.9101e-01,\n",
       "        -9.1574e-01, -2.5320e-01, -4.3769e-01, -5.1452e-01, -7.0860e-01,\n",
       "         1.8017e+00, -5.5229e-01, -4.1493e-01, -6.4137e-01, -1.0188e+00,\n",
       "        -1.1337e+00, -7.7804e-01,  1.5144e-03, -8.1687e-01, -8.0404e-01,\n",
       "         1.1654e+00, -3.5197e-01, -3.9405e-01,  6.3104e-01, -9.1100e-02,\n",
       "        -5.1041e-01,  6.5359e-01,  1.1840e-01,  2.9559e-01,  1.8361e-01],\n",
       "       dtype=float32),\n",
       " array([ 0.16306 , -0.24346 , -0.49481 , -0.48861 ,  0.50604 , -0.077119,\n",
       "         0.24513 ,  0.05301 ,  0.058411, -0.33154 ,  0.055022,  0.82572 ,\n",
       "         0.2159  , -0.1631  ,  0.19596 ,  0.32795 , -0.64282 , -0.65917 ,\n",
       "         0.45198 , -0.85047 ,  0.67793 , -0.10002 ,  0.19845 , -0.64824 ,\n",
       "        -0.43958 , -1.3572  ,  0.16475 ,  0.030665, -1.2814  ,  0.23552 ,\n",
       "         1.6059  , -0.40697 , -0.91903 , -0.55363 ,  0.49149 , -0.95204 ,\n",
       "         0.96233 , -0.029281,  0.1222  , -0.73986 ,  0.18189 , -0.10312 ,\n",
       "        -0.050536, -0.073872, -0.34397 ,  0.085205, -0.017034,  1.3721  ,\n",
       "         0.20865 ,  0.95314 ], dtype=float32),\n",
       " array([ 0.33811  , -0.23768  ,  0.77132  ,  0.20897  , -0.96102  ,\n",
       "         0.21753  ,  0.069671 , -0.79317  ,  0.35003  , -0.18187  ,\n",
       "         0.80426  ,  0.6604   ,  0.0062125,  0.4198   , -0.83985  ,\n",
       "         0.39408  , -0.57603  ,  0.69031  ,  0.26979  , -0.26878  ,\n",
       "        -0.11203  , -0.85813  , -0.82293  , -0.01665  ,  0.10325  ,\n",
       "        -1.8031   , -0.1156   , -0.26856  ,  0.31724  ,  0.17981  ,\n",
       "         4.0673   , -0.36699  , -0.42908  , -1.0838   , -0.20061  ,\n",
       "         0.49008  ,  0.46461  , -0.12059  ,  0.23733  , -0.097047 ,\n",
       "         0.01566  , -0.37673  ,  0.065233 ,  1.0646   , -1.0214   ,\n",
       "         0.30089  ,  0.33471  ,  0.23508  ,  0.40676  ,  0.11479  ],\n",
       "       dtype=float32),\n",
       " array([ 5.3964e-01, -1.3732e-01,  2.6655e-01, -1.9516e-01, -2.7085e-01,\n",
       "         6.1536e-01, -4.0520e-01, -8.3053e-01, -3.8883e-01,  6.5268e-02,\n",
       "         5.3750e-01,  6.5439e-01,  4.1593e-01, -9.4210e-02, -2.9161e-01,\n",
       "         4.0866e-01, -1.4244e-01,  4.5586e-01, -4.7516e-01, -1.0329e+00,\n",
       "         3.3194e-01, -5.9274e-01,  4.3132e-01, -2.8016e-03, -2.1245e-01,\n",
       "        -1.5564e+00, -5.7710e-01, -1.9148e-01,  5.1854e-01, -7.9724e-01,\n",
       "         3.4860e+00, -6.0214e-01, -6.9157e-01, -6.3335e-01,  6.3745e-01,\n",
       "         8.2274e-01,  5.3723e-01,  3.1433e-01, -2.5180e-01,  4.7469e-01,\n",
       "         7.0936e-01,  2.2682e-01,  6.5133e-02,  5.0814e-01,  5.4933e-01,\n",
       "        -9.9623e-02,  8.4533e-02, -1.2983e-01, -7.3696e-02, -4.2038e-01],\n",
       "       dtype=float32),\n",
       " array([ 0.27237 , -0.12497 ,  1.168   ,  0.90136 , -0.27174 ,  0.3702  ,\n",
       "        -1.2333  , -0.72389 ,  0.59986 ,  1.3567  , -0.17666 , -0.4577  ,\n",
       "         0.031162, -0.21162 ,  1.1464  , -0.080099, -0.8296  , -0.47065 ,\n",
       "         0.13669 ,  0.38023 ,  1.077   ,  0.35607 ,  0.89854 ,  0.83836 ,\n",
       "         0.5424  , -0.035915, -0.051769, -0.19412 , -0.09303 , -0.85722 ,\n",
       "         1.7133  , -0.029928,  0.30865 , -0.76095 , -1.1455  , -0.086665,\n",
       "         0.26706 , -0.49686 , -1.6141  , -0.88815 ,  1.1109  , -0.18268 ,\n",
       "        -1.4454  ,  0.019318, -0.21476 , -1.0661  , -0.15407 , -0.45365 ,\n",
       "        -0.1361  , -0.11739 ], dtype=float32),\n",
       " array([ 5.6819e-01, -9.5609e-01,  5.1209e-01,  1.2099e+00, -4.1932e-01,\n",
       "        -9.5927e-01, -1.6395e+00, -5.4107e-01,  1.9927e+00,  5.2376e-01,\n",
       "         4.3134e-01,  1.3192e-01,  8.3592e-01, -9.2256e-01,  4.7082e-01,\n",
       "        -1.7108e-01, -2.8848e-01, -3.3112e-01,  1.7742e-01, -2.8483e-01,\n",
       "        -6.6346e-01, -2.1574e-01, -3.8212e-03,  5.8060e-01,  5.2053e-01,\n",
       "        -2.9594e-01, -5.9803e-01, -2.0501e-02,  2.0361e-05, -4.0889e-01,\n",
       "         1.7009e+00, -7.2181e-01, -1.2583e-01,  6.4527e-01, -3.2646e-01,\n",
       "        -5.1385e-01, -1.2212e+00, -9.2832e-01, -2.5463e-02, -5.5119e-01,\n",
       "         3.8169e-01,  3.8407e-01,  1.5121e-01, -2.4931e-01, -7.4834e-01,\n",
       "         1.5595e-01,  2.7273e-01, -1.6356e-01,  5.9135e-02, -7.6426e-01],\n",
       "       dtype=float32),\n",
       " array([ 0.80748 , -0.49437 ,  0.88394 ,  0.613   , -0.84361 , -0.7125  ,\n",
       "        -1.3862  , -0.71815 ,  1.9373  ,  1.0935  ,  0.041186,  0.66417 ,\n",
       "        -0.04291 , -0.86534 ,  1.1222  ,  0.42405 , -0.91599 ,  0.03431 ,\n",
       "         0.31934 , -0.89674 ,  0.88882 ,  0.13463 ,  0.22619 ,  1.1363  ,\n",
       "        -0.39645 ,  0.42231 , -0.29291 ,  0.076371, -0.19373 ,  0.11987 ,\n",
       "         0.2931  ,  0.51934 ,  0.19592 ,  0.16125 ,  0.15596 , -0.54117 ,\n",
       "        -0.3963  , -0.79934 , -0.40582 , -1.1619  ,  0.99599 ,  0.60781 ,\n",
       "        -1.3509  ,  0.58753 , -1.578   , -0.41074 ,  0.40733 , -0.40877 ,\n",
       "        -0.38443 ,  0.32243 ], dtype=float32),\n",
       " array([ 0.60006 ,  0.94688 , -0.9643  ,  0.17021 ,  0.99266 ,  0.53614 ,\n",
       "         0.27152 , -0.47258 ,  0.15652 ,  0.59132 ,  0.66885 ,  0.71222 ,\n",
       "        -0.24509 , -0.25265 , -0.60551 ,  0.30928 ,  0.047728, -0.33427 ,\n",
       "         0.93234 ,  0.22092 , -0.040599,  1.0273  ,  0.17574 , -0.67867 ,\n",
       "         1.3828  , -0.80583 , -0.25024 , -0.53332 ,  0.32719 , -0.11436 ,\n",
       "         3.1045  ,  0.46483 , -0.49321 , -1.4276  , -0.3654  , -0.47337 ,\n",
       "        -0.78874 ,  0.14077 , -0.1515  ,  0.41477 , -0.054441, -1.1136  ,\n",
       "         0.16433 ,  0.16587 ,  0.14348 ,  0.29557 ,  0.47282 ,  1.4056  ,\n",
       "        -0.26325 , -0.12711 ], dtype=float32),\n",
       " array([ 0.61854 ,  0.11915 , -0.46786 ,  0.31368 ,  1.0334  ,  0.95964 ,\n",
       "         0.87803 , -1.0346  ,  1.6322  ,  0.29347 ,  0.80844 , -0.058903,\n",
       "         0.021251,  0.40986 ,  0.54443 , -0.33311 ,  0.53712 , -0.35823 ,\n",
       "         0.29374 ,  0.090151, -0.92049 ,  0.69386 ,  0.39098 , -0.64392 ,\n",
       "         0.77831 , -1.7215  , -0.48393 , -0.50327 , -0.22508 ,  0.099192,\n",
       "         3.2095  , -0.31554 , -0.71754 , -1.6752  , -1.3537  ,  0.15195 ,\n",
       "         0.054557, -0.1633  , -0.027993,  0.3917  , -0.55007 , -0.079205,\n",
       "         0.63389 ,  0.51446 ,  0.70124 ,  0.27638 , -0.53445 ,  0.064808,\n",
       "        -0.21974 , -0.52048 ], dtype=float32),\n",
       " array([-0.39996 ,  0.58045 , -0.78248 , -0.31532 ,  0.082649, -0.070739,\n",
       "         0.045903, -0.37485 , -0.58971 ,  0.40251 , -0.86635 , -0.53601 ,\n",
       "         0.33596 ,  0.13373 , -0.10189 , -0.19249 , -1.2725  , -0.47454 ,\n",
       "         0.22902 , -0.063494,  0.50466 ,  0.67942 ,  0.12649 , -0.7336  ,\n",
       "         0.92199 , -1.9479  ,  0.10175 ,  0.34392 , -0.64638 ,  0.1542  ,\n",
       "         2.7091  ,  0.13164 , -0.88445 , -1.0128  , -0.73836 , -0.59732 ,\n",
       "         0.68048 ,  0.28299 , -0.94409 ,  0.22446 ,  0.12201 ,  0.45652 ,\n",
       "        -1.14    ,  0.18941 ,  0.25788 ,  0.66214 , -0.22368 ,  0.62871 ,\n",
       "        -0.26272 ,  0.46135 ], dtype=float32),\n",
       " array([ 0.76265  , -0.34801  , -0.46205  ,  0.40931  , -0.46526  ,\n",
       "        -0.93023  , -0.33231  , -0.23824  , -0.29492  ,  0.14607  ,\n",
       "         0.098342 ,  0.31043  ,  0.33527  , -0.64789  , -0.38515  ,\n",
       "        -0.13993  , -0.32642  ,  0.10712  ,  0.54732  ,  1.1828   ,\n",
       "        -0.77898  , -0.38644  , -0.56172  , -0.0030654,  0.66278  ,\n",
       "        -0.28223  ,  0.18291  ,  0.14395  , -0.32389  , -1.005    ,\n",
       "        -0.83196  , -0.6836   , -0.10627  ,  0.11796  ,  0.21004  ,\n",
       "         0.52286  ,  0.25412  ,  1.3427   , -0.26064  ,  0.75026  ,\n",
       "         1.3871   ,  0.6132   , -0.27554  , -0.41176  , -0.030964 ,\n",
       "        -0.28797  ,  0.077203 ,  0.25157  ,  0.23948  ,  0.31292  ],\n",
       "       dtype=float32),\n",
       " array([-0.90944 , -0.014371,  1.4884  ,  0.31567 , -0.39193 , -0.76307 ,\n",
       "        -0.21215 , -0.87057 ,  0.41886 , -0.51635 ,  0.62068 ,  0.13322 ,\n",
       "        -0.2749  , -0.19058 , -0.2791  , -0.14505 , -1.4148  , -0.2321  ,\n",
       "         1.225   ,  0.43852 , -0.59111 , -0.19408 ,  0.16277 ,  0.94581 ,\n",
       "         1.0556  , -0.34002 ,  0.43905 , -0.37733 , -0.92366 , -0.33269 ,\n",
       "        -0.79268 ,  0.061201,  0.63419 , -0.66131 , -0.4185  , -0.47645 ,\n",
       "        -0.17596 ,  0.24943 , -1.0962  , -0.22502 ,  0.53772 ,  0.45334 ,\n",
       "         0.52986 , -1.124   ,  0.315   , -0.73968 ,  0.52496 , -1.217   ,\n",
       "         0.51664 ,  0.50598 ], dtype=float32),\n",
       " array([-2.2448e-01,  2.8103e-02, -4.0083e-01, -7.4955e-01,  7.6927e-01,\n",
       "         3.8039e-01,  3.9494e-01, -2.3064e-01,  2.4902e-03,  9.6494e-01,\n",
       "        -7.2509e-02, -2.8484e-01, -2.6434e-01,  2.0535e-01, -5.0159e-01,\n",
       "         1.7226e-02,  2.2991e-01,  1.8360e-01,  5.9362e-01,  5.2998e-01,\n",
       "        -2.9682e-01,  1.3011e+00, -5.5700e-02, -2.3771e-01,  8.2907e-02,\n",
       "        -1.6719e+00, -8.9307e-01, -4.2943e-02,  1.2123e+00,  5.4102e-01,\n",
       "         2.8465e+00, -8.4451e-03, -7.5689e-01, -2.5264e-01, -2.4261e-01,\n",
       "         3.1487e-01, -2.0521e-01,  4.3683e-02, -5.0076e-01, -3.6923e-01,\n",
       "         4.2447e-01, -1.8378e-01, -2.5074e-01,  3.5197e-01, -1.7920e-01,\n",
       "        -3.2591e-01, -4.6900e-01,  3.2670e-01, -3.7960e-02,  3.4553e-01],\n",
       "       dtype=float32),\n",
       " array([-5.5230e-01, -1.3201e-01,  5.3448e-01, -3.1631e-01, -2.9609e-01,\n",
       "         4.0009e-01, -6.5172e-01, -1.6933e-02,  2.0799e-01,  2.0791e-01,\n",
       "         7.5040e-02, -4.5470e-01, -1.1412e+00, -4.1902e-01,  2.8588e-01,\n",
       "        -3.2957e-01, -1.7813e-01,  6.0509e-01, -5.9558e-01, -1.5860e+00,\n",
       "         1.0837e-01,  4.1122e-01, -5.6955e-01,  4.6363e-01,  5.3203e-01,\n",
       "        -1.5092e+00,  1.5967e-01,  7.1270e-02,  1.4724e+00,  3.5896e-01,\n",
       "         2.4834e+00,  4.7011e-01, -2.4038e-01, -8.1210e-02,  1.1006e+00,\n",
       "        -2.1635e-01, -5.4761e-02,  1.9718e-02, -2.7677e-01,  5.5572e-01,\n",
       "        -5.8981e-01,  9.3364e-02,  3.9642e-01,  1.0619e-01,  2.6752e-01,\n",
       "        -9.4712e-01,  4.1152e-01, -5.2815e-01,  9.0774e-01, -1.7608e-03],\n",
       "       dtype=float32),\n",
       " array([ 0.24121 ,  0.60355 ,  1.4479  ,  0.92341 , -0.288   ,  1.0117  ,\n",
       "        -0.23967 , -0.28047 , -0.73546 ,  0.86603 ,  1.0004  , -0.56538 ,\n",
       "        -0.18458 , -0.7003  ,  0.11593 ,  0.49026 , -0.945   ,  1.9458  ,\n",
       "         0.12143 , -0.53437 ,  0.74766 , -0.44979 , -0.94975 , -0.25395 ,\n",
       "        -0.051354, -0.18811 , -0.55797 , -0.019028,  0.089804, -0.49801 ,\n",
       "        -0.3037  , -0.33379 , -0.58611 , -0.19298 ,  0.48916 , -0.28726 ,\n",
       "         0.074819,  0.29908 ,  0.45134 ,  0.23884 ,  0.66882 , -0.18047 ,\n",
       "        -1.2032  , -0.60745 , -0.26948 , -0.20926 ,  0.27468 ,  0.53635 ,\n",
       "        -0.61257 , -0.3745  ], dtype=float32),\n",
       " array([ 0.55513 , -1.0614  ,  1.1683  ,  0.56903 , -0.69893 , -0.29166 ,\n",
       "        -0.13156 , -0.54242 ,  0.56935 ,  0.22099 ,  0.08604 , -0.13378 ,\n",
       "         0.5921  ,  0.6503  , -0.73933 ,  0.091557, -1.0168  ,  0.39085 ,\n",
       "         0.12689 , -0.69288 ,  1.557   , -0.65385 , -0.87317 ,  0.24169 ,\n",
       "         0.63611 , -0.38324 , -0.38915 , -0.29826 ,  0.60033 , -0.32219 ,\n",
       "         1.8884  , -0.63376 , -0.12814 , -0.38282 , -0.24007 ,  0.48158 ,\n",
       "         1.0092  ,  0.77333 , -0.2483  ,  0.41476 ,  0.78335 , -0.11731 ,\n",
       "        -0.38083 ,  1.4059  , -0.61294 , -0.46411 ,  0.66567 ,  0.65994 ,\n",
       "         0.93249 ,  0.27587 ], dtype=float32),\n",
       " array([ 0.020637 , -0.59704  , -0.42771  ,  0.45118  ,  0.37551  ,\n",
       "        -0.090939 ,  0.18943  ,  0.82289  , -0.18554  , -0.11665  ,\n",
       "        -0.028869 ,  0.082758 , -0.71106  , -0.082236 ,  0.78368  ,\n",
       "         0.64198  ,  0.20384  , -1.0338   ,  0.10133  , -0.62621  ,\n",
       "         0.062248 , -0.022195 , -0.36175  , -0.5099   ,  0.0037395,\n",
       "        -2.3864   ,  0.27427  ,  0.027299 , -0.34705  ,  0.052486 ,\n",
       "         2.914    , -0.099187 , -1.1691   , -0.44007  , -0.34964  ,\n",
       "        -1.1051   ,  0.91434  , -0.072429 , -0.40384  , -0.57132  ,\n",
       "        -0.31572  ,  0.07733  , -0.17125  ,  0.14912  , -0.36032  ,\n",
       "         0.50577  , -0.69998  ,  1.051    ,  0.093151 ,  0.61208  ],\n",
       "       dtype=float32),\n",
       " array([ 0.19778 , -0.10103 , -0.071409, -0.037639,  0.22745 ,  0.41763 ,\n",
       "        -0.55807 , -0.062708,  0.050403,  0.59083 , -0.24153 ,  0.12375 ,\n",
       "        -0.33673 ,  0.10332 ,  0.45602 , -0.091431,  0.28411 ,  0.033227,\n",
       "        -0.15449 , -0.69335 ,  0.492   , -0.087047,  0.14923 , -0.16205 ,\n",
       "         0.15987 , -1.5367  , -0.27408 ,  0.049951,  0.6569  , -0.41912 ,\n",
       "         3.5897  ,  0.38376 , -0.097004, -0.05595 ,  0.24614 ,  0.22666 ,\n",
       "         0.055907,  0.78365 , -0.43791 , -0.41056 , -0.23735 , -0.030492,\n",
       "         0.23276 ,  0.12619 , -0.087642,  0.12143 , -0.25902 ,  0.30713 ,\n",
       "         0.014896,  0.095329], dtype=float32),\n",
       " array([-1.9285e-01,  1.0600e-01,  2.7803e-01,  8.5369e-01, -7.1518e-01,\n",
       "         6.9657e-01, -6.6382e-01, -1.8185e-01, -1.9938e-01,  9.9969e-02,\n",
       "         3.3560e-01, -3.1183e-01, -6.8226e-01,  3.8019e-01,  3.4532e-01,\n",
       "         1.0597e-01,  3.5288e-01,  4.6855e-01, -2.5789e-01, -1.2456e+00,\n",
       "         2.3176e-01, -9.2211e-02,  3.1109e-01,  9.8345e-01, -2.2249e-01,\n",
       "        -8.7630e-01, -2.9321e-01, -9.2322e-01, -2.8332e-01, -7.6618e-02,\n",
       "         2.2977e+00,  1.1018e+00, -1.8544e-01, -6.0461e-01,  2.9796e-01,\n",
       "        -2.8993e-01, -6.6377e-01,  7.5487e-01, -1.4056e+00, -4.4183e-01,\n",
       "        -2.7385e-01, -5.8935e-01,  5.2227e-01,  8.0884e-01, -2.8374e-01,\n",
       "        -8.6672e-04, -3.0490e-01, -8.7791e-03, -4.4355e-01, -5.1272e-01],\n",
       "       dtype=float32),\n",
       " array([-1.005   ,  1.2502  ,  0.30508 , -0.29577 ,  0.88423 , -0.33187 ,\n",
       "         0.27826 ,  0.059654,  1.046   ,  0.011507,  0.3433  , -0.82165 ,\n",
       "         0.38816 , -0.2036  ,  0.35517 , -0.33289 ,  0.038854, -0.24647 ,\n",
       "        -0.99334 ,  0.071364, -0.21287 , -0.77409 ,  0.13486 , -0.18917 ,\n",
       "        -0.51648 , -1.4066  , -0.5873  , -0.29088 , -0.86439 ,  1.0528  ,\n",
       "         2.9958  ,  0.18249 ,  0.68025 , -0.20623 ,  0.73411 , -0.49545 ,\n",
       "         0.17813 ,  0.054192, -0.24585 , -0.75738 , -1.0708  , -0.037519,\n",
       "         0.32101 ,  0.069098, -1.1657  , -0.32059 ,  0.067228,  0.065606,\n",
       "         0.17372 , -0.42047 ], dtype=float32),\n",
       " array([-0.385   ,  1.0336  ,  0.18552 , -0.45638 ,  0.28177 , -0.81713 ,\n",
       "         0.71709 , -0.15206 ,  0.11827 , -0.095164,  0.41868 , -0.51292 ,\n",
       "        -0.23463 , -0.1674  ,  0.064439,  0.24206 ,  0.29985 ,  0.25919 ,\n",
       "        -0.64696 , -0.46723 ,  0.071163, -0.19472 ,  0.33513 , -0.1589  ,\n",
       "        -0.3721  , -1.0626  ,  0.4403  ,  0.28488 , -0.43204 ,  0.86569 ,\n",
       "         3.9309  ,  0.58216 ,  0.42233 , -1.1462  ,  0.53437 ,  0.11361 ,\n",
       "         0.13846 ,  0.30984 ,  0.10915 , -0.60892 , -0.47173 , -0.56053 ,\n",
       "         0.44492 ,  0.35458 , -0.40164 , -0.35056 ,  0.89285 ,  0.66288 ,\n",
       "         0.23385 , -0.15513 ], dtype=float32),\n",
       " array([ 1.0473  ,  0.49813 ,  0.13197 ,  0.58318 ,  0.77412 , -0.64692 ,\n",
       "         0.23762 , -0.48011 ,  0.23414 , -0.73153 , -0.1107  ,  0.15445 ,\n",
       "        -0.9957  ,  0.10855 , -1.8338  ,  0.43908 ,  1.0038  ,  0.14163 ,\n",
       "        -0.18835 ,  0.59476 ,  0.65342 , -0.31906 , -0.69773 , -0.99312 ,\n",
       "        -0.41899 , -1.1711  , -0.1871  , -0.14068 ,  0.63182 ,  0.55005 ,\n",
       "         2.7544  ,  0.10202 , -0.2828  , -0.73216 ,  0.12497 , -0.21669 ,\n",
       "        -1.337   ,  0.83392 , -1.0579  ,  0.42286 ,  0.032519, -0.76303 ,\n",
       "         0.65177 , -0.58418 , -0.47132 , -0.10198 ,  0.19215 ,  1.7557  ,\n",
       "        -0.3422  ,  0.71279 ], dtype=float32),\n",
       " array([-9.0962e-01, -1.6793e-01, -2.8244e-01,  1.2006e+00,  3.5477e-01,\n",
       "        -5.4996e-02, -1.2784e+00,  5.6494e-02, -7.3090e-01,  6.5448e-01,\n",
       "         6.0675e-02,  8.4152e-02, -1.3827e+00,  1.6752e-01,  1.1236e+00,\n",
       "        -5.2102e-01,  1.4212e-01, -3.2316e-01, -1.9348e+00,  5.5645e-02,\n",
       "        -8.9574e-01, -3.1206e-01, -3.3612e-03,  8.2128e-02,  3.2966e-01,\n",
       "        -1.0100e+00,  1.1907e-01, -8.7034e-02,  9.9483e-01, -1.5931e+00,\n",
       "         3.4081e+00,  1.0488e+00,  2.0391e-01, -4.3841e-01,  1.1190e-01,\n",
       "         8.7173e-01,  6.2297e-01,  6.2392e-01, -2.8830e-01, -9.7984e-01,\n",
       "        -1.6959e-02, -3.9827e-01, -9.7197e-01,  5.9183e-01, -5.7886e-01,\n",
       "         9.6217e-01,  7.6927e-01,  4.0248e-01, -1.3602e-02,  1.8745e-01],\n",
       "       dtype=float32),\n",
       " array([ 0.33811  , -0.23768  ,  0.77132  ,  0.20897  , -0.96102  ,\n",
       "         0.21753  ,  0.069671 , -0.79317  ,  0.35003  , -0.18187  ,\n",
       "         0.80426  ,  0.6604   ,  0.0062125,  0.4198   , -0.83985  ,\n",
       "         0.39408  , -0.57603  ,  0.69031  ,  0.26979  , -0.26878  ,\n",
       "        -0.11203  , -0.85813  , -0.82293  , -0.01665  ,  0.10325  ,\n",
       "        -1.8031   , -0.1156   , -0.26856  ,  0.31724  ,  0.17981  ,\n",
       "         4.0673   , -0.36699  , -0.42908  , -1.0838   , -0.20061  ,\n",
       "         0.49008  ,  0.46461  , -0.12059  ,  0.23733  , -0.097047 ,\n",
       "         0.01566  , -0.37673  ,  0.065233 ,  1.0646   , -1.0214   ,\n",
       "         0.30089  ,  0.33471  ,  0.23508  ,  0.40676  ,  0.11479  ],\n",
       "       dtype=float32),\n",
       " array([-1.23    ,  0.53338 , -0.54739 ,  0.74925 ,  0.051358, -0.049229,\n",
       "         0.37644 ,  0.12776 , -1.2388  , -0.10743 ,  0.66663 , -0.017593,\n",
       "        -0.75334 ,  1.1521  ,  0.79936 , -0.72212 , -0.010328,  1.1645  ,\n",
       "        -0.61305 ,  0.089596,  0.15369 , -0.53461 , -0.38411 ,  1.1418  ,\n",
       "         0.099212, -0.91557 , -0.84423 , -1.0483  , -1.0846  , -0.15067 ,\n",
       "         1.2818  , -0.3466  , -0.15524 , -0.22628 , -0.61318 ,  0.75801 ,\n",
       "        -0.28914 ,  1.0317  , -0.30663 , -0.70051 ,  0.70523 , -0.57677 ,\n",
       "        -0.087965,  0.65805 ,  0.092902,  0.34689 ,  1.1974  ,  0.26843 ,\n",
       "        -0.84715 , -0.58149 ], dtype=float32)]"
      ]
     },
     "execution_count": 67,
     "metadata": {},
     "output_type": "execute_result"
    }
   ],
   "source": [
    "vectors"
   ]
  },
  {
   "cell_type": "code",
   "execution_count": 74,
   "metadata": {
    "id": "11jjgpqQvjY_"
   },
   "outputs": [],
   "source": [
    "glove_vectors = dict(zip(new_corpus,vectors))"
   ]
  },
  {
   "cell_type": "code",
   "execution_count": 75,
   "metadata": {
    "colab": {
     "base_uri": "https://localhost:8080/"
    },
    "id": "RldmEJVUxBH4",
    "outputId": "5b1dc6c6-f112-48b0-cf44-cb2e8fed80bc"
   },
   "outputs": [
    {
     "data": {
      "text/plain": [
       "array([ 2.4196e-01, -7.4387e-01, -5.1436e-01, -8.9699e-02, -2.6825e-01,\n",
       "        4.5664e-01,  7.2555e-01, -2.1819e-01,  4.2826e-02,  1.8943e-01,\n",
       "       -3.2057e-01,  5.7118e-02, -5.9674e-01,  2.2751e-01,  1.2945e-01,\n",
       "       -2.9623e-01,  6.4950e-01, -2.2105e-01, -5.7708e-01, -4.5436e-01,\n",
       "        2.5636e-01,  9.9275e-02, -1.1760e-01, -1.6338e-01, -2.3526e-01,\n",
       "       -1.8493e+00, -1.0322e-01, -3.5198e-01,  2.4535e-03,  3.3223e-02,\n",
       "        3.3513e+00,  1.5836e-01, -1.0583e+00, -7.2565e-01, -5.7345e-01,\n",
       "       -5.7453e-02,  4.7996e-01, -9.9358e-01, -8.0074e-01, -6.2818e-01,\n",
       "       -2.2644e-01,  1.4946e-01, -3.2743e-02, -3.3740e-01,  2.0041e-01,\n",
       "       -2.3766e-03,  1.2109e-02,  5.5461e-01,  1.5185e-01,  7.0218e-01],\n",
       "      dtype=float32)"
      ]
     },
     "execution_count": 75,
     "metadata": {},
     "output_type": "execute_result"
    }
   ],
   "source": [
    "glove_vectors['action']"
   ]
  },
  {
   "cell_type": "markdown",
   "metadata": {
    "id": "5BFfsXpzHFvb"
   },
   "source": [
    "*THE CODE FOR WORD2VEC AND FAST TEXT IS SUBMITTED IN ANOTHER IPYTHON NOTEBOOK AS WE RAN THE PROGRAM IN COLAB, THE RAM AND DISK IS GETIING EXHAUSTED AND RESTARTING AS WE ARE IMPORTING THE PRETARINED MODEL USING api.load*"
   ]
  },
  {
   "cell_type": "markdown",
   "metadata": {
    "id": "2mpac9FyGdNs"
   },
   "source": [
    "# (3) Generating embeddings for 5 pairs of positive and negative samples\n",
    "# in the data and computing the cosine similarity between the vectors"
   ]
  },
  {
   "cell_type": "code",
   "execution_count": 92,
   "metadata": {
    "colab": {
     "base_uri": "https://localhost:8080/"
    },
    "id": "s9lObm_cAwN5",
    "outputId": "304b9e06-43c5-45a3-bac4-104dcfba342e"
   },
   "outputs": [
    {
     "name": "stderr",
     "output_type": "stream",
     "text": [
      "/usr/local/lib/python3.7/dist-packages/ipykernel_launcher.py:1: DeprecationWarning: Call to deprecated `most_similar` (Method will be removed in 4.0.0, use self.wv.most_similar() instead).\n",
      "  \"\"\"Entry point for launching an IPython kernel.\n"
     ]
    }
   ],
   "source": [
    "positive = w2v_model.most_similar('data',topn=5)"
   ]
  },
  {
   "cell_type": "code",
   "execution_count": 93,
   "metadata": {
    "colab": {
     "base_uri": "https://localhost:8080/"
    },
    "id": "ouCTihmdA3cU",
    "outputId": "e3629b9d-fa2e-4f7c-8d5f-c6d9ffdbb387"
   },
   "outputs": [
    {
     "name": "stderr",
     "output_type": "stream",
     "text": [
      "/usr/local/lib/python3.7/dist-packages/ipykernel_launcher.py:1: DeprecationWarning: Call to deprecated `most_similar` (Method will be removed in 4.0.0, use self.wv.most_similar() instead).\n",
      "  \"\"\"Entry point for launching an IPython kernel.\n"
     ]
    }
   ],
   "source": [
    "negative = w2v_model.most_similar(positive=['news', 'book'], negative=['data'], topn=5)"
   ]
  },
  {
   "cell_type": "code",
   "execution_count": 94,
   "metadata": {
    "colab": {
     "base_uri": "https://localhost:8080/"
    },
    "id": "S-d7Ra3dBZQs",
    "outputId": "9fa4a0df-e251-48bf-8a6c-ca25f4eeb8d9"
   },
   "outputs": [
    {
     "data": {
      "text/plain": [
       "[('flow', 0.7052559852600098),\n",
       " ('health', 0.6705082654953003),\n",
       " ('used', 0.6596438884735107),\n",
       " ('record', 0.6594346761703491),\n",
       " ('annotation', 0.659172534942627)]"
      ]
     },
     "execution_count": 94,
     "metadata": {},
     "output_type": "execute_result"
    }
   ],
   "source": [
    "positive"
   ]
  },
  {
   "cell_type": "code",
   "execution_count": 95,
   "metadata": {
    "colab": {
     "base_uri": "https://localhost:8080/"
    },
    "id": "AjKGpkhmDOe7",
    "outputId": "03c77d84-083a-4c6a-876b-a243eb21141b"
   },
   "outputs": [
    {
     "data": {
      "text/plain": [
       "[('bibcode', 0.7860730290412903),\n",
       " ('oxford', 0.7794829607009888),\n",
       " ('fear', 0.7685981392860413),\n",
       " ('2015sci', 0.7658615112304688),\n",
       " ('discussion', 0.7575021982192993)]"
      ]
     },
     "execution_count": 95,
     "metadata": {},
     "output_type": "execute_result"
    }
   ],
   "source": [
    "negative"
   ]
  },
  {
   "cell_type": "code",
   "execution_count": 102,
   "metadata": {
    "id": "Guk5gKYnEnEd"
   },
   "outputs": [],
   "source": [
    "l = len(positive)"
   ]
  },
  {
   "cell_type": "code",
   "execution_count": 110,
   "metadata": {
    "id": "x2aD00cwF6H0"
   },
   "outputs": [],
   "source": [
    "import warnings\n",
    "warnings.filterwarnings(\"ignore\", category=DeprecationWarning) "
   ]
  },
  {
   "cell_type": "code",
   "execution_count": 112,
   "metadata": {
    "colab": {
     "base_uri": "https://localhost:8080/"
    },
    "id": "Cn_2JoEFE0-0",
    "outputId": "9eb8da73-0e38-4989-cc23-8dc9cf46d2cd"
   },
   "outputs": [
    {
     "name": "stdout",
     "output_type": "stream",
     "text": [
      "The similarity between flow and bibcode is:\n",
      "0.2226525\n",
      "The similarity between health and oxford is:\n",
      "0.26360434\n",
      "The similarity between used and fear is:\n",
      "0.27013567\n",
      "The similarity between record and 2015sci is:\n",
      "0.3884084\n",
      "The similarity between annotation and discussion is:\n",
      "0.12610756\n"
     ]
    }
   ],
   "source": [
    "for i in range(l):\n",
    "    print('The similarity between {} and {} is:'.format(positive[i][0],negative[i][0]))\n",
    "    print(w2v_model.similarity(positive[i][0],negative[i][0]))\n",
    "\n",
    "    "
   ]
  },
  {
   "cell_type": "markdown",
   "metadata": {
    "id": "HmQKuO-oHnGr"
   },
   "source": [
    "# (4) OBSERVATION"
   ]
  },
  {
   "cell_type": "markdown",
   "metadata": {
    "id": "joltyJsmH0YH"
   },
   "source": [
    "**1) When training word2vec with gensim, the result you achieve is a representation of the words in your vocabulary as vectors. The dimension of these vectors is the size of the neural network.**\n",
    "\n",
    "**2) The pre-trained word2vec models simply contain a list of those vectors that were pre-trained on a large corpus. You will find pre-trained vectors of various sizes.**\n",
    "\n",
    "**3) word embeddings that have previously been trained on a vast corpus of text and are thus referred to as Pre-trained Word Embeddings.**\n",
    "\n",
    "**4) The similarity between pairs of positive and negative samples are very less that indicates that angle between those two word vectors high and they are similar.**\n",
    "\n"
   ]
  }
 ],
 "metadata": {
  "colab": {
   "collapsed_sections": [],
   "name": "2n2nn2.ipynb",
   "provenance": []
  },
  "kernelspec": {
   "display_name": "Python 3",
   "language": "python",
   "name": "python3"
  },
  "language_info": {
   "codemirror_mode": {
    "name": "ipython",
    "version": 3
   },
   "file_extension": ".py",
   "mimetype": "text/x-python",
   "name": "python",
   "nbconvert_exporter": "python",
   "pygments_lexer": "ipython3",
   "version": "3.8.5"
  }
 },
 "nbformat": 4,
 "nbformat_minor": 1
}
